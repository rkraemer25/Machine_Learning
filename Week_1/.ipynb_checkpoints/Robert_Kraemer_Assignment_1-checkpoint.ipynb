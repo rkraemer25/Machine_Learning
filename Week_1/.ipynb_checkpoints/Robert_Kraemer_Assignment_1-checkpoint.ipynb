{
 "cells": [
  {
   "cell_type": "markdown",
   "id": "d93ba3db",
   "metadata": {},
   "source": [
    "# Assignment 1\n",
    "\n",
    "### Robert Kraemer\n",
    "\n",
    "<b>Due:</b>09/20/2022"
   ]
  },
  {
   "cell_type": "markdown",
   "id": "5c841a70",
   "metadata": {},
   "source": [
    "<b>Packages:</b> Students will write Python scripts utilizing the following packages: numpy, pandas, matplotlib, Seaborn, scikit-learn, TensorFlow 2, and others as necessary."
   ]
  },
  {
   "cell_type": "code",
   "execution_count": 231,
   "id": "812d9355",
   "metadata": {},
   "outputs": [],
   "source": [
    "import numpy as np\n",
    "import pandas as pd\n",
    "from sklearn import datasets\n",
    "from sklearn.model_selection import train_test_split\n",
    "from sklearn.linear_model import LinearRegression\n",
    "import matplotlib.pyplot as plt\n",
    "from sklearn.metrics import mean_squared_error"
   ]
  },
  {
   "cell_type": "markdown",
   "id": "0e6f0c89",
   "metadata": {},
   "source": [
    "### Assignment 1, Part 1: \n",
    "Data Loading and Preparation. Load the diabetes dataset into two numpy arrays: one for the feature set and one for the target. Pick a single feature to try to predict the target (disease progression). Document the reason you chose the feature you did. Break your single feature and target sets into training and test sets with the last 20 rows being in the test set."
   ]
  },
  {
   "cell_type": "code",
   "execution_count": 232,
   "id": "5cbdc5b5",
   "metadata": {},
   "outputs": [],
   "source": [
    "# Load diabetes dataset into two numpy arrays one for the feature set and one for the target\n",
    "diabetes_X, diabetes_y = datasets.load_diabetes(return_X_y = True)"
   ]
  },
  {
   "cell_type": "code",
   "execution_count": 233,
   "id": "32765761",
   "metadata": {},
   "outputs": [],
   "source": [
    "# Pick a single feature to try to predict the target (disease progression)\n",
    "feature_X = diabetes_X[:,2]"
   ]
  },
  {
   "cell_type": "markdown",
   "id": "39942645",
   "metadata": {},
   "source": [
    "I picked the third column of the feature set, bmi, as the single feature to train a linear regression model on. I selected bmi out of curiousity to see if it is good predictor for diabetes disease progression."
   ]
  },
  {
   "cell_type": "code",
   "execution_count": 234,
   "id": "281e46f5",
   "metadata": {},
   "outputs": [],
   "source": [
    "# Break your single feature and target sets into training and test sets with the last 20 rows \n",
    "# being in the test set\n",
    "X_train = feature_X[:422]\n",
    "X_test = feature_X[422:]\n",
    "y_train = diabetes_y[:422]\n",
    "y_test = diabetes_y[422:]"
   ]
  },
  {
   "cell_type": "markdown",
   "id": "0b3b9451",
   "metadata": {},
   "source": [
    "### Assignment 1, Part 2: \n",
    "Model Training. Instantiate a linear regression model, and train it with your single feature and target sets."
   ]
  },
  {
   "cell_type": "code",
   "execution_count": 235,
   "id": "ebcbab24",
   "metadata": {},
   "outputs": [
    {
     "data": {
      "text/html": [
       "<style>#sk-container-id-18 {color: black;background-color: white;}#sk-container-id-18 pre{padding: 0;}#sk-container-id-18 div.sk-toggleable {background-color: white;}#sk-container-id-18 label.sk-toggleable__label {cursor: pointer;display: block;width: 100%;margin-bottom: 0;padding: 0.3em;box-sizing: border-box;text-align: center;}#sk-container-id-18 label.sk-toggleable__label-arrow:before {content: \"▸\";float: left;margin-right: 0.25em;color: #696969;}#sk-container-id-18 label.sk-toggleable__label-arrow:hover:before {color: black;}#sk-container-id-18 div.sk-estimator:hover label.sk-toggleable__label-arrow:before {color: black;}#sk-container-id-18 div.sk-toggleable__content {max-height: 0;max-width: 0;overflow: hidden;text-align: left;background-color: #f0f8ff;}#sk-container-id-18 div.sk-toggleable__content pre {margin: 0.2em;color: black;border-radius: 0.25em;background-color: #f0f8ff;}#sk-container-id-18 input.sk-toggleable__control:checked~div.sk-toggleable__content {max-height: 200px;max-width: 100%;overflow: auto;}#sk-container-id-18 input.sk-toggleable__control:checked~label.sk-toggleable__label-arrow:before {content: \"▾\";}#sk-container-id-18 div.sk-estimator input.sk-toggleable__control:checked~label.sk-toggleable__label {background-color: #d4ebff;}#sk-container-id-18 div.sk-label input.sk-toggleable__control:checked~label.sk-toggleable__label {background-color: #d4ebff;}#sk-container-id-18 input.sk-hidden--visually {border: 0;clip: rect(1px 1px 1px 1px);clip: rect(1px, 1px, 1px, 1px);height: 1px;margin: -1px;overflow: hidden;padding: 0;position: absolute;width: 1px;}#sk-container-id-18 div.sk-estimator {font-family: monospace;background-color: #f0f8ff;border: 1px dotted black;border-radius: 0.25em;box-sizing: border-box;margin-bottom: 0.5em;}#sk-container-id-18 div.sk-estimator:hover {background-color: #d4ebff;}#sk-container-id-18 div.sk-parallel-item::after {content: \"\";width: 100%;border-bottom: 1px solid gray;flex-grow: 1;}#sk-container-id-18 div.sk-label:hover label.sk-toggleable__label {background-color: #d4ebff;}#sk-container-id-18 div.sk-serial::before {content: \"\";position: absolute;border-left: 1px solid gray;box-sizing: border-box;top: 0;bottom: 0;left: 50%;z-index: 0;}#sk-container-id-18 div.sk-serial {display: flex;flex-direction: column;align-items: center;background-color: white;padding-right: 0.2em;padding-left: 0.2em;position: relative;}#sk-container-id-18 div.sk-item {position: relative;z-index: 1;}#sk-container-id-18 div.sk-parallel {display: flex;align-items: stretch;justify-content: center;background-color: white;position: relative;}#sk-container-id-18 div.sk-item::before, #sk-container-id-18 div.sk-parallel-item::before {content: \"\";position: absolute;border-left: 1px solid gray;box-sizing: border-box;top: 0;bottom: 0;left: 50%;z-index: -1;}#sk-container-id-18 div.sk-parallel-item {display: flex;flex-direction: column;z-index: 1;position: relative;background-color: white;}#sk-container-id-18 div.sk-parallel-item:first-child::after {align-self: flex-end;width: 50%;}#sk-container-id-18 div.sk-parallel-item:last-child::after {align-self: flex-start;width: 50%;}#sk-container-id-18 div.sk-parallel-item:only-child::after {width: 0;}#sk-container-id-18 div.sk-dashed-wrapped {border: 1px dashed gray;margin: 0 0.4em 0.5em 0.4em;box-sizing: border-box;padding-bottom: 0.4em;background-color: white;}#sk-container-id-18 div.sk-label label {font-family: monospace;font-weight: bold;display: inline-block;line-height: 1.2em;}#sk-container-id-18 div.sk-label-container {text-align: center;}#sk-container-id-18 div.sk-container {/* jupyter's `normalize.less` sets `[hidden] { display: none; }` but bootstrap.min.css set `[hidden] { display: none !important; }` so we also need the `!important` here to be able to override the default hidden behavior on the sphinx rendered scikit-learn.org. See: https://github.com/scikit-learn/scikit-learn/issues/21755 */display: inline-block !important;position: relative;}#sk-container-id-18 div.sk-text-repr-fallback {display: none;}</style><div id=\"sk-container-id-18\" class=\"sk-top-container\"><div class=\"sk-text-repr-fallback\"><pre>LinearRegression()</pre><b>In a Jupyter environment, please rerun this cell to show the HTML representation or trust the notebook. <br />On GitHub, the HTML representation is unable to render, please try loading this page with nbviewer.org.</b></div><div class=\"sk-container\" hidden><div class=\"sk-item\"><div class=\"sk-estimator sk-toggleable\"><input class=\"sk-toggleable__control sk-hidden--visually\" id=\"sk-estimator-id-18\" type=\"checkbox\" checked><label for=\"sk-estimator-id-18\" class=\"sk-toggleable__label sk-toggleable__label-arrow\">LinearRegression</label><div class=\"sk-toggleable__content\"><pre>LinearRegression()</pre></div></div></div></div></div>"
      ],
      "text/plain": [
       "LinearRegression()"
      ]
     },
     "execution_count": 235,
     "metadata": {},
     "output_type": "execute_result"
    }
   ],
   "source": [
    "# Train linear regression model with target tests\n",
    "model = LinearRegression()\n",
    "model.fit(X_train.reshape(-1, 1), y_train)"
   ]
  },
  {
   "cell_type": "markdown",
   "id": "2c89df95",
   "metadata": {},
   "source": [
    "### Assignment 1, Part 3: \n",
    "Prediction and Measurement. List the first 10 predictions on your single feature training set. Print out the feature coefficient and the root mean squared error of your model.\n",
    "\n",
    "NOTE: I think there is a typo in the question. Should it say test set? I have printed both"
   ]
  },
  {
   "cell_type": "code",
   "execution_count": 236,
   "id": "07c08b81",
   "metadata": {},
   "outputs": [
    {
     "data": {
      "text/plain": [
       "array([210.80457868, 104.6239487 , 194.62467316, 142.03998022,\n",
       "       118.78136603, 114.73638965, 108.66892508, 151.14117707,\n",
       "       210.80457868, 189.56845268])"
      ]
     },
     "execution_count": 236,
     "metadata": {},
     "output_type": "execute_result"
    }
   ],
   "source": [
    "# List the first 10 predictions on your single feature training set?\n",
    "model.predict(X_train.reshape(-1, 1))[:10]"
   ]
  },
  {
   "cell_type": "code",
   "execution_count": 237,
   "id": "bbaba3b6",
   "metadata": {},
   "outputs": [
    {
     "data": {
      "text/plain": [
       "array([225.9732401 , 115.74763374, 163.27610621, 114.73638965,\n",
       "       120.80385422, 158.21988574, 236.08568105, 121.81509832,\n",
       "        99.56772822, 123.83758651])"
      ]
     },
     "execution_count": 237,
     "metadata": {},
     "output_type": "execute_result"
    }
   ],
   "source": [
    "# List the first 10 predictions on your single feature test set\n",
    "y_predict = model.predict(X_test.reshape(-1, 1))\n",
    "y_predict[:10]"
   ]
  },
  {
   "cell_type": "code",
   "execution_count": 238,
   "id": "236cac9e",
   "metadata": {},
   "outputs": [
    {
     "name": "stdout",
     "output_type": "stream",
     "text": [
      "Feature coefficient: [938.23786125]\n",
      "Root mean squared error: 50.478434986892864\n"
     ]
    }
   ],
   "source": [
    "# Print out the feature coefficient and the root mean squared error of the model\n",
    "print('Feature coefficient:', model.coef_)\n",
    "actual = y_test\n",
    "predicted = y_predict\n",
    "mse = mean_squared_error(actual, predicted)\n",
    "rmse = np.sqrt(mse)\n",
    "print('Root mean squared error:', rmse)"
   ]
  },
  {
   "cell_type": "markdown",
   "id": "1630e681",
   "metadata": {},
   "source": [
    "### Assignment 1, Part 4: \n",
    "\n",
    "Visualization. Print out a scatter plot with the feature you chose on the x-axis, and progression on the y-axis. Plot the regression line on this same graph with appropriate labels on each axis."
   ]
  },
  {
   "cell_type": "code",
   "execution_count": 239,
   "id": "4431cc96",
   "metadata": {},
   "outputs": [
    {
     "data": {
      "text/plain": [
       "<function matplotlib.pyplot.show(close=None, block=None)>"
      ]
     },
     "execution_count": 239,
     "metadata": {},
     "output_type": "execute_result"
    },
    {
     "data": {
      "image/png": "[encoded data removed]",
      "text/plain": [
       "<Figure size 432x288 with 1 Axes>"
      ]
     },
     "metadata": {
      "needs_background": "light"
     },
     "output_type": "display_data"
    }
   ],
   "source": [
    "plt.scatter(X_train, y_train, color='green')\n",
    "plt.scatter(X_test, y_test, color='red')\n",
    "plt.scatter(X_test, y_predict, color='blue') # predicted disease progression\n",
    "plt.plot(X_test, model.predict(X_test.reshape(-1,1)), color='black')\n",
    "plt.title('Diabetes disease progression by bmi')\n",
    "plt.xlabel('bmi')\n",
    "plt.ylabel('disease progression')\n",
    "plt.show"
   ]
  },
  {
   "cell_type": "code",
   "execution_count": null,
   "id": "801bdd31",
   "metadata": {},
   "outputs": [],
   "source": []
  }
 ],
 "metadata": {
  "kernelspec": {
   "display_name": "Python 3 (ipykernel)",
   "language": "python",
   "name": "python3"
  },
  "language_info": {
   "codemirror_mode": {
    "name": "ipython",
    "version": 3
   },
   "file_extension": ".py",
   "mimetype": "text/x-python",
   "name": "python",
   "nbconvert_exporter": "python",
   "pygments_lexer": "ipython3",
   "version": "3.10.0"
  }
 },
 "nbformat": 4,
 "nbformat_minor": 5
}
