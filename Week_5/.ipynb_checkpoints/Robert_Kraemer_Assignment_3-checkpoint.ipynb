{
 "cells": [
  {
   "cell_type": "markdown",
   "id": "32d6008c",
   "metadata": {},
   "source": [
    "# Assignment 3\n",
    "### Robert Kraemer\n",
    "<b>Due:</b> 10/18/2022"
   ]
  },
  {
   "cell_type": "markdown",
   "id": "4d5755f8",
   "metadata": {},
   "source": [
    "<b>Packages:</b> Students will write Python scripts utilizing the following packages: numpy, pandas, matplotlib, Seaborn, scikit-learn, TensorFlow 2, and others as necessary."
   ]
  },
  {
   "cell_type": "code",
   "execution_count": 275,
   "id": "bfcb999c",
   "metadata": {},
   "outputs": [],
   "source": [
    "import ssl\n",
    "import math\n",
    "import numpy as np\n",
    "import pandas as pd\n",
    "import seaborn as sns\n",
    "from sklearn import datasets\n",
    "import matplotlib.pyplot as plt\n",
    "from sklearn.svm import SVC\n",
    "from sklearn.pipeline import Pipeline\n",
    "from sklearn.compose import ColumnTransformer\n",
    "from sklearn.tree import DecisionTreeRegressor\n",
    "from sklearn.preprocessing import (OneHotEncoder, StandardScaler, \n",
    "                                   MinMaxScaler)\n",
    "from sklearn.ensemble import RandomForestRegressor\n",
    "from sklearn.model_selection import (cross_val_score, train_test_split, \n",
    "                                     GridSearchCV, learning_curve)\n",
    "from sklearn.linear_model import (LinearRegression, LogisticRegression, \n",
    "                                  SGDClassifier)\n",
    "from sklearn.metrics import (mean_squared_error, classification_report, \n",
    "                             confusion_matrix, roc_auc_score, plot_roc_curve)"
   ]
  },
  {
   "cell_type": "markdown",
   "id": "8025bccb",
   "metadata": {},
   "source": [
    "### Assignment 3, Part 1: \n",
    "Data Exploration. Load the titanic dataset from Seaborn by using the load_dataset(‘titanic’) method. Document the columns that are missing data both numerically (via a count) and visually (via an sns heatmap). Document which values are categorical. Explore the data and answer the following questions: Did more women or men die on the Titanic? Which passenger class was more likely to survive? What does the distribution of fare look like? What does the distribution of non-null age values look like? What is the median age of each passenger class (pclass)? Visualize this in a box plot."
   ]
  },
  {
   "cell_type": "code",
   "execution_count": 276,
   "id": "e52b98a6",
   "metadata": {},
   "outputs": [
    {
     "data": {
      "text/html": [
       "<div>\n",
       "<style scoped>\n",
       "    .dataframe tbody tr th:only-of-type {\n",
       "        vertical-align: middle;\n",
       "    }\n",
       "\n",
       "    .dataframe tbody tr th {\n",
       "        vertical-align: top;\n",
       "    }\n",
       "\n",
       "    .dataframe thead th {\n",
       "        text-align: right;\n",
       "    }\n",
       "</style>\n",
       "<table border=\"1\" class=\"dataframe\">\n",
       "  <thead>\n",
       "    <tr style=\"text-align: right;\">\n",
       "      <th></th>\n",
       "      <th>survived</th>\n",
       "      <th>pclass</th>\n",
       "      <th>sex</th>\n",
       "      <th>age</th>\n",
       "      <th>sibsp</th>\n",
       "      <th>parch</th>\n",
       "      <th>fare</th>\n",
       "      <th>embarked</th>\n",
       "      <th>class</th>\n",
       "      <th>who</th>\n",
       "      <th>adult_male</th>\n",
       "      <th>deck</th>\n",
       "      <th>embark_town</th>\n",
       "      <th>alive</th>\n",
       "      <th>alone</th>\n",
       "    </tr>\n",
       "  </thead>\n",
       "  <tbody>\n",
       "    <tr>\n",
       "      <th>0</th>\n",
       "      <td>0</td>\n",
       "      <td>3</td>\n",
       "      <td>male</td>\n",
       "      <td>22.0</td>\n",
       "      <td>1</td>\n",
       "      <td>0</td>\n",
       "      <td>7.2500</td>\n",
       "      <td>S</td>\n",
       "      <td>Third</td>\n",
       "      <td>man</td>\n",
       "      <td>True</td>\n",
       "      <td>NaN</td>\n",
       "      <td>Southampton</td>\n",
       "      <td>no</td>\n",
       "      <td>False</td>\n",
       "    </tr>\n",
       "    <tr>\n",
       "      <th>1</th>\n",
       "      <td>1</td>\n",
       "      <td>1</td>\n",
       "      <td>female</td>\n",
       "      <td>38.0</td>\n",
       "      <td>1</td>\n",
       "      <td>0</td>\n",
       "      <td>71.2833</td>\n",
       "      <td>C</td>\n",
       "      <td>First</td>\n",
       "      <td>woman</td>\n",
       "      <td>False</td>\n",
       "      <td>C</td>\n",
       "      <td>Cherbourg</td>\n",
       "      <td>yes</td>\n",
       "      <td>False</td>\n",
       "    </tr>\n",
       "    <tr>\n",
       "      <th>2</th>\n",
       "      <td>1</td>\n",
       "      <td>3</td>\n",
       "      <td>female</td>\n",
       "      <td>26.0</td>\n",
       "      <td>0</td>\n",
       "      <td>0</td>\n",
       "      <td>7.9250</td>\n",
       "      <td>S</td>\n",
       "      <td>Third</td>\n",
       "      <td>woman</td>\n",
       "      <td>False</td>\n",
       "      <td>NaN</td>\n",
       "      <td>Southampton</td>\n",
       "      <td>yes</td>\n",
       "      <td>True</td>\n",
       "    </tr>\n",
       "    <tr>\n",
       "      <th>3</th>\n",
       "      <td>1</td>\n",
       "      <td>1</td>\n",
       "      <td>female</td>\n",
       "      <td>35.0</td>\n",
       "      <td>1</td>\n",
       "      <td>0</td>\n",
       "      <td>53.1000</td>\n",
       "      <td>S</td>\n",
       "      <td>First</td>\n",
       "      <td>woman</td>\n",
       "      <td>False</td>\n",
       "      <td>C</td>\n",
       "      <td>Southampton</td>\n",
       "      <td>yes</td>\n",
       "      <td>False</td>\n",
       "    </tr>\n",
       "    <tr>\n",
       "      <th>4</th>\n",
       "      <td>0</td>\n",
       "      <td>3</td>\n",
       "      <td>male</td>\n",
       "      <td>35.0</td>\n",
       "      <td>0</td>\n",
       "      <td>0</td>\n",
       "      <td>8.0500</td>\n",
       "      <td>S</td>\n",
       "      <td>Third</td>\n",
       "      <td>man</td>\n",
       "      <td>True</td>\n",
       "      <td>NaN</td>\n",
       "      <td>Southampton</td>\n",
       "      <td>no</td>\n",
       "      <td>True</td>\n",
       "    </tr>\n",
       "  </tbody>\n",
       "</table>\n",
       "</div>"
      ],
      "text/plain": [
       "   survived  pclass     sex   age  sibsp  parch     fare embarked  class  \\\n",
       "0         0       3    male  22.0      1      0   7.2500        S  Third   \n",
       "1         1       1  female  38.0      1      0  71.2833        C  First   \n",
       "2         1       3  female  26.0      0      0   7.9250        S  Third   \n",
       "3         1       1  female  35.0      1      0  53.1000        S  First   \n",
       "4         0       3    male  35.0      0      0   8.0500        S  Third   \n",
       "\n",
       "     who  adult_male deck  embark_town alive  alone  \n",
       "0    man        True  NaN  Southampton    no  False  \n",
       "1  woman       False    C    Cherbourg   yes  False  \n",
       "2  woman       False  NaN  Southampton   yes   True  \n",
       "3  woman       False    C  Southampton   yes  False  \n",
       "4    man        True  NaN  Southampton    no   True  "
      ]
     },
     "execution_count": 276,
     "metadata": {},
     "output_type": "execute_result"
    }
   ],
   "source": [
    "# Load the titanic dataset from Seaborn by using the load_dataset(‘titanic’) method\n",
    "ssl._create_default_https_context = ssl._create_unverified_context\n",
    "titanic = sns.load_dataset('titanic')\n",
    "titanic.head()"
   ]
  },
  {
   "cell_type": "code",
   "execution_count": 277,
   "id": "33be57ae",
   "metadata": {},
   "outputs": [
    {
     "name": "stdout",
     "output_type": "stream",
     "text": [
      "Index(['survived', 'pclass', 'sex', 'age', 'sibsp', 'parch', 'fare',\n",
      "       'embarked', 'class', 'who', 'adult_male', 'deck', 'embark_town',\n",
      "       'alive', 'alone'],\n",
      "      dtype='object')\n",
      "<class 'pandas.core.frame.DataFrame'>\n"
     ]
    },
    {
     "data": {
      "text/plain": [
       "survived         0\n",
       "pclass           0\n",
       "sex              0\n",
       "age            177\n",
       "sibsp            0\n",
       "parch            0\n",
       "fare             0\n",
       "embarked         2\n",
       "class            0\n",
       "who              0\n",
       "adult_male       0\n",
       "deck           688\n",
       "embark_town      2\n",
       "alive            0\n",
       "alone            0\n",
       "dtype: int64"
      ]
     },
     "execution_count": 277,
     "metadata": {},
     "output_type": "execute_result"
    }
   ],
   "source": [
    "# Explore the dataset\n",
    "print(titanic.keys())\n",
    "print(type(titanic))\n",
    "\n",
    "# Document the columns that are missing data numerically (via a count)\n",
    "titanic.isnull().sum()"
   ]
  },
  {
   "cell_type": "code",
   "execution_count": 278,
   "id": "5471fdd1",
   "metadata": {},
   "outputs": [
    {
     "data": {
      "text/plain": [
       "<AxesSubplot:>"
      ]
     },
     "execution_count": 278,
     "metadata": {},
     "output_type": "execute_result"
    },
    {
     "data": {
      "image/png": "[encoded data removed]",
      "text/plain": [
       "<Figure size 432x288 with 1 Axes>"
      ]
     },
     "metadata": {
      "needs_background": "light"
     },
     "output_type": "display_data"
    }
   ],
   "source": [
    "# Document the columns that are missing data visually (via an sns heatmap)\n",
    "sns.heatmap(titanic.isnull(), cbar=False)"
   ]
  },
  {
   "cell_type": "markdown",
   "id": "d6f7e93f",
   "metadata": {},
   "source": [
    "Document which values are categorical: \n",
    "\n",
    "survived, pclass, sex, sibsp, parch, embarked, class, who, adult_male, deck, embark_town, alive, alone"
   ]
  },
  {
   "cell_type": "markdown",
   "id": "ac9e03a5",
   "metadata": {},
   "source": [
    "Explore the data and answer the following questions: "
   ]
  },
  {
   "cell_type": "code",
   "execution_count": 279,
   "id": "90f2c8f6",
   "metadata": {},
   "outputs": [
    {
     "data": {
      "text/plain": [
       "<AxesSubplot:>"
      ]
     },
     "execution_count": 279,
     "metadata": {},
     "output_type": "execute_result"
    },
    {
     "data": {
      "image/png": "[encoded data removed]",
      "text/plain": [
       "<Figure size 432x288 with 1 Axes>"
      ]
     },
     "metadata": {
      "needs_background": "light"
     },
     "output_type": "display_data"
    }
   ],
   "source": [
    "# Did more women or men die on the Titanic?    \n",
    "titanic[titanic.survived==0].sex.value_counts().plot(kind='bar')"
   ]
  },
  {
   "cell_type": "code",
   "execution_count": 280,
   "id": "24ad4a25",
   "metadata": {},
   "outputs": [
    {
     "data": {
      "text/plain": [
       "<AxesSubplot:>"
      ]
     },
     "execution_count": 280,
     "metadata": {},
     "output_type": "execute_result"
    },
    {
     "data": {
      "image/png": "[encoded data removed]",
      "text/plain": [
       "<Figure size 432x288 with 1 Axes>"
      ]
     },
     "metadata": {
      "needs_background": "light"
     },
     "output_type": "display_data"
    }
   ],
   "source": [
    "# Which passenger class was more likely to survive?\n",
    "titanic[titanic.survived==1].pclass.value_counts().plot(kind='bar')"
   ]
  },
  {
   "cell_type": "code",
   "execution_count": 281,
   "id": "64628f29",
   "metadata": {},
   "outputs": [
    {
     "data": {
      "text/plain": [
       "<AxesSubplot:xlabel='fare', ylabel='Count'>"
      ]
     },
     "execution_count": 281,
     "metadata": {},
     "output_type": "execute_result"
    },
    {
     "data": {
      "image/png": "[encoded data removed]",
      "text/plain": [
       "<Figure size 432x288 with 1 Axes>"
      ]
     },
     "metadata": {
      "needs_background": "light"
     },
     "output_type": "display_data"
    }
   ],
   "source": [
    "# What does the distribution of fare look like?\n",
    "sns.histplot(titanic.fare)"
   ]
  },
  {
   "cell_type": "code",
   "execution_count": 282,
   "id": "2b2dbdba",
   "metadata": {},
   "outputs": [
    {
     "data": {
      "text/plain": [
       "<AxesSubplot:xlabel='age', ylabel='Count'>"
      ]
     },
     "execution_count": 282,
     "metadata": {},
     "output_type": "execute_result"
    },
    {
     "data": {
      "image/png": "[encoded data removed]",
      "text/plain": [
       "<Figure size 432x288 with 1 Axes>"
      ]
     },
     "metadata": {
      "needs_background": "light"
     },
     "output_type": "display_data"
    }
   ],
   "source": [
    "# What does the distribution of non-null age values look like?\n",
    "sns.histplot(titanic[titanic.age.notnull()].age)"
   ]
  },
  {
   "cell_type": "code",
   "execution_count": 283,
   "id": "a21758f3",
   "metadata": {},
   "outputs": [
    {
     "data": {
      "text/plain": [
       "<AxesSubplot:xlabel='pclass', ylabel='age'>"
      ]
     },
     "execution_count": 283,
     "metadata": {},
     "output_type": "execute_result"
    },
    {
     "data": {
      "image/png": "[encoded data removed]",
      "text/plain": [
       "<Figure size 432x288 with 1 Axes>"
      ]
     },
     "metadata": {
      "needs_background": "light"
     },
     "output_type": "display_data"
    }
   ],
   "source": [
    "# What is the median age of each passenger class (pclass)? Visualize this in a box plot.\n",
    "sns.boxplot(data=titanic[titanic.age.notnull()],x='pclass',y='age')"
   ]
  },
  {
   "cell_type": "markdown",
   "id": "eec4b719",
   "metadata": {},
   "source": [
    "### Assignment 3, Part 2: \n",
    "Data Cleansing. Since there are so many missing values in Cabin, get rid of the cabin feature. Define a function to impute age using the median of the passenger class you computed earlier. To call it, use train[[‘age’, ‘pclass]].apply(impute_age,axis=1). Drop the remaining records containing null values. Show there are no remaining null values. Convert categorical variables to numeric dummies using pandas’ get_dummies() method. Add these to your training dataframe. Drop the categorical columns you converted earlier as well as name, ticket, and passengerId. Create a feature set by dropping “Survived.” Your resulting feature set should include pclass, age, sibsp, parch, fare, and the categorical dummy columns you created earlier. Implement a label dataframe by copying the contents of the Survived column of your training set to a new dataframe. Split your clean data into a training and test set."
   ]
  },
  {
   "cell_type": "code",
   "execution_count": 284,
   "id": "ef80ae85",
   "metadata": {},
   "outputs": [],
   "source": [
    "# Get rid of the deck (cabin) feature, and redundant variables \n",
    "titanic.drop(['deck','adult_male', 'alive', 'who'],axis=1,inplace=True)"
   ]
  },
  {
   "cell_type": "code",
   "execution_count": 285,
   "id": "69b18cd0",
   "metadata": {},
   "outputs": [],
   "source": [
    "# Define a function to impute age using the median of the passenger class you computed earlier\n",
    "def impute_age(x):\n",
    "    if math.isnan(x.age) and x.pclass == 1:\n",
    "        return np.median(titanic[(titanic.age.notnull()) & (titanic.pclass==1)].age)\n",
    "    if math.isnan(x.age) and x.pclass == 2:\n",
    "        return np.median(titanic[(titanic.age.notnull()) & (titanic.pclass==2)].age)\n",
    "    if math.isnan(x.age) and x.pclass == 3:\n",
    "        return np.median(titanic[(titanic.age.notnull()) & (titanic.pclass==3)].age)\n",
    "    else: \n",
    "        return x.age\n",
    "    \n",
    "titanic['age'] = titanic[['age', 'pclass']].apply(impute_age,axis=1)"
   ]
  },
  {
   "cell_type": "code",
   "execution_count": 286,
   "id": "112e13ec",
   "metadata": {},
   "outputs": [],
   "source": [
    "# Drop the remaining records containing null values\n",
    "titanic.dropna(inplace=True)"
   ]
  },
  {
   "cell_type": "code",
   "execution_count": 287,
   "id": "c9b0de2f",
   "metadata": {},
   "outputs": [
    {
     "data": {
      "text/plain": [
       "survived       0\n",
       "pclass         0\n",
       "sex            0\n",
       "age            0\n",
       "sibsp          0\n",
       "parch          0\n",
       "fare           0\n",
       "embarked       0\n",
       "class          0\n",
       "embark_town    0\n",
       "alone          0\n",
       "dtype: int64"
      ]
     },
     "execution_count": 287,
     "metadata": {},
     "output_type": "execute_result"
    }
   ],
   "source": [
    "# Show there are no remaining null values\n",
    "titanic.isnull().sum()"
   ]
  },
  {
   "cell_type": "code",
   "execution_count": 288,
   "id": "4f4de6e8",
   "metadata": {},
   "outputs": [],
   "source": [
    "# Convert categorical variables to numeric dummies using pandas’ get_dummies() method\n",
    "col_list = ['pclass','sex', 'embarked', 'class', 'embark_town']\n",
    "for col in col_list:\n",
    "    titanic = pd.concat([titanic,pd.get_dummies(titanic[col],prefix=col,prefix_sep='_')], axis=1)"
   ]
  },
  {
   "cell_type": "code",
   "execution_count": 289,
   "id": "a1262515",
   "metadata": {},
   "outputs": [],
   "source": [
    "# Drop the categorical columns converted\n",
    "titanic.drop(col_list, axis=1, inplace=True)"
   ]
  },
  {
   "cell_type": "code",
   "execution_count": 290,
   "id": "1980b1df",
   "metadata": {},
   "outputs": [],
   "source": [
    "# Create train and test sets \n",
    "X = titanic.drop('survived', axis=1)\n",
    "y = titanic[['survived']]\n",
    "X_train, X_test, y_train, y_test = train_test_split(X, y, test_size=0.30, random_state=42)"
   ]
  },
  {
   "cell_type": "markdown",
   "id": "8565d521",
   "metadata": {},
   "source": [
    "### Assignment 3, Part 3: \n",
    "Model Training. Implement a logistic regression model. Implement a support vector classifier. Implement an sgd classifier. Print out the classification reports, confusion matrices, and roc score and chart for each of these. Remember to set Probability=True for SVM and use method=decision_function in a cross_val_predict instead of predict_proba for the SGD ROC plot."
   ]
  },
  {
   "cell_type": "code",
   "execution_count": 291,
   "id": "7b8f847b",
   "metadata": {},
   "outputs": [
    {
     "name": "stdout",
     "output_type": "stream",
     "text": [
      "              precision    recall  f1-score   support\n",
      "\n",
      "           0       0.85      0.87      0.86       167\n",
      "           1       0.78      0.75      0.77       100\n",
      "\n",
      "    accuracy                           0.83       267\n",
      "   macro avg       0.82      0.81      0.81       267\n",
      "weighted avg       0.83      0.83      0.83       267\n",
      "\n",
      "[[146  21]\n",
      " [ 25  75]]\n",
      "0.812125748502994\n"
     ]
    }
   ],
   "source": [
    "# Implement a logistic regression model \n",
    "# Print out the classification reports, confusion matrices, and roc score and chart\n",
    "lrm = LogisticRegression(max_iter=500)\n",
    "lrm.fit(X_train, y_train.values.ravel())\n",
    "lrm_y_pred = lrm.predict(X_test)\n",
    "print(classification_report(y_test,lrm_y_pred))\n",
    "print(confusion_matrix(y_test,lrm_y_pred))\n",
    "print(roc_auc_score(y_test,lrm_y_pred))"
   ]
  },
  {
   "cell_type": "code",
   "execution_count": 292,
   "id": "e44353ee",
   "metadata": {},
   "outputs": [
    {
     "name": "stderr",
     "output_type": "stream",
     "text": [
      "/Library/Frameworks/Python.framework/Versions/3.10/lib/python3.10/site-packages/sklearn/utils/deprecation.py:87: FutureWarning: Function plot_roc_curve is deprecated; Function :func:`plot_roc_curve` is deprecated in 1.0 and will be removed in 1.2. Use one of the class methods: :meth:`sklearn.metric.RocCurveDisplay.from_predictions` or :meth:`sklearn.metric.RocCurveDisplay.from_estimator`.\n",
      "  warnings.warn(msg, category=FutureWarning)\n"
     ]
    },
    {
     "data": {
      "image/png": "[encoded data removed]",
      "text/plain": [
       "<Figure size 432x288 with 1 Axes>"
      ]
     },
     "metadata": {
      "needs_background": "light"
     },
     "output_type": "display_data"
    }
   ],
   "source": [
    "plot_roc_curve(lrm, X_train, y_train)\n",
    "plt.show()"
   ]
  },
  {
   "cell_type": "code",
   "execution_count": 293,
   "id": "0bb6d464",
   "metadata": {},
   "outputs": [
    {
     "name": "stdout",
     "output_type": "stream",
     "text": [
      "              precision    recall  f1-score   support\n",
      "\n",
      "           0       0.63      0.99      0.77       167\n",
      "           1       0.50      0.01      0.02       100\n",
      "\n",
      "    accuracy                           0.63       267\n",
      "   macro avg       0.56      0.50      0.39       267\n",
      "weighted avg       0.58      0.63      0.49       267\n",
      "\n",
      "[[166   1]\n",
      " [ 99   1]]\n",
      "0.502005988023952\n"
     ]
    }
   ],
   "source": [
    "# Implement an SGD Classifier\n",
    "# Print out the classification reports, confusion matrices, and roc score and chart\n",
    "sgd = SGDClassifier()\n",
    "sgd.fit(X_train, y_train.values.ravel())\n",
    "sgd_y_pred = sgd.predict(X_test)\n",
    "print(classification_report(y_test,sgd_y_pred))\n",
    "print(confusion_matrix(y_test,sgd_y_pred))\n",
    "print(roc_auc_score(y_test,sgd_y_pred))"
   ]
  },
  {
   "cell_type": "code",
   "execution_count": 294,
   "id": "02af37ad",
   "metadata": {},
   "outputs": [
    {
     "name": "stderr",
     "output_type": "stream",
     "text": [
      "/Library/Frameworks/Python.framework/Versions/3.10/lib/python3.10/site-packages/sklearn/utils/deprecation.py:87: FutureWarning: Function plot_roc_curve is deprecated; Function :func:`plot_roc_curve` is deprecated in 1.0 and will be removed in 1.2. Use one of the class methods: :meth:`sklearn.metric.RocCurveDisplay.from_predictions` or :meth:`sklearn.metric.RocCurveDisplay.from_estimator`.\n",
      "  warnings.warn(msg, category=FutureWarning)\n"
     ]
    },
    {
     "data": {
      "image/png": "[encoded data removed]",
      "text/plain": [
       "<Figure size 432x288 with 1 Axes>"
      ]
     },
     "metadata": {
      "needs_background": "light"
     },
     "output_type": "display_data"
    }
   ],
   "source": [
    "plot_roc_curve(sgd, X_train, y_train, response_method='decision_function')\n",
    "plt.show()"
   ]
  },
  {
   "cell_type": "code",
   "execution_count": 295,
   "id": "af033e2b",
   "metadata": {},
   "outputs": [
    {
     "name": "stdout",
     "output_type": "stream",
     "text": [
      "              precision    recall  f1-score   support\n",
      "\n",
      "           0       0.67      0.92      0.78       167\n",
      "           1       0.65      0.26      0.37       100\n",
      "\n",
      "    accuracy                           0.67       267\n",
      "   macro avg       0.66      0.59      0.57       267\n",
      "weighted avg       0.67      0.67      0.62       267\n",
      "\n",
      "[[153  14]\n",
      " [ 74  26]]\n",
      "0.5880838323353293\n"
     ]
    }
   ],
   "source": [
    "# Implement SVC \n",
    "# Print out the classification reports, confusion matrices, and roc score and chart\n",
    "svc = SVC(probability=True)\n",
    "svc.fit(X_train, y_train.values.ravel())\n",
    "svc_y_pred = svc.predict(X_test)\n",
    "print(classification_report(y_test,svc_y_pred))\n",
    "print(confusion_matrix(y_test,svc_y_pred))\n",
    "print(roc_auc_score(y_test,svc_y_pred))"
   ]
  },
  {
   "cell_type": "code",
   "execution_count": 296,
   "id": "f576bca6",
   "metadata": {},
   "outputs": [
    {
     "name": "stderr",
     "output_type": "stream",
     "text": [
      "/Library/Frameworks/Python.framework/Versions/3.10/lib/python3.10/site-packages/sklearn/utils/deprecation.py:87: FutureWarning: Function plot_roc_curve is deprecated; Function :func:`plot_roc_curve` is deprecated in 1.0 and will be removed in 1.2. Use one of the class methods: :meth:`sklearn.metric.RocCurveDisplay.from_predictions` or :meth:`sklearn.metric.RocCurveDisplay.from_estimator`.\n",
      "  warnings.warn(msg, category=FutureWarning)\n"
     ]
    },
    {
     "data": {
      "image/png": "[encoded data removed]",
      "text/plain": [
       "<Figure size 432x288 with 1 Axes>"
      ]
     },
     "metadata": {
      "needs_background": "light"
     },
     "output_type": "display_data"
    }
   ],
   "source": [
    "plot_roc_curve(svc, X_train, y_train)\n",
    "plt.show()"
   ]
  },
  {
   "cell_type": "markdown",
   "id": "67ab7e85",
   "metadata": {},
   "source": [
    "### Assignment 3, Part 4: \n",
    "Model Tuning\n",
    "- See if scaling your input data affects your SVC model (implement a sklearn pipeline to combine scaling and instantiation of your model).\n",
    "- Do a grid search of your pipeline classifier using the following parameter grid: {‘\\<your_svc_model_name>__kernel’: [‘rbf’], ‘\\<your_svc_model_name> __gamma’: [0.0001, 0.001, 0.01, 0.1, 1], ‘\\<your_svc_model_name> __C’: [1,10,50,100,200,300]}.\n",
    "- Print the best estimator, its parameters, and the resulting score. Apply this estimator to your test set\n",
    "- Implement a learning curve using your best estimator from the grid search. \n",
    " - The figure should have a title of “learning curve.”\n",
    " - Label the y-axis with “Score.”\n",
    " - Label the x-axis with “Training Examples.”\n",
    " - Make the training score red.\n",
    " - Make the validation score green.\n",
    " - What does this learning curve tell you?"
   ]
  },
  {
   "cell_type": "code",
   "execution_count": 297,
   "id": "d4beec9d",
   "metadata": {},
   "outputs": [],
   "source": [
    "# See if scaling your input data affects your SVC model \n",
    "# (implement a sklearn pipeline to combine scaling and instantiation of your model)\n",
    "pipe = Pipeline([('minmax', MinMaxScaler()), ('svc',SVC(probability=True))])"
   ]
  },
  {
   "cell_type": "code",
   "execution_count": 298,
   "id": "4af4fdc6",
   "metadata": {},
   "outputs": [
    {
     "data": {
      "text/html": [
       "<style>#sk-container-id-23 {color: black;background-color: white;}#sk-container-id-23 pre{padding: 0;}#sk-container-id-23 div.sk-toggleable {background-color: white;}#sk-container-id-23 label.sk-toggleable__label {cursor: pointer;display: block;width: 100%;margin-bottom: 0;padding: 0.3em;box-sizing: border-box;text-align: center;}#sk-container-id-23 label.sk-toggleable__label-arrow:before {content: \"▸\";float: left;margin-right: 0.25em;color: #696969;}#sk-container-id-23 label.sk-toggleable__label-arrow:hover:before {color: black;}#sk-container-id-23 div.sk-estimator:hover label.sk-toggleable__label-arrow:before {color: black;}#sk-container-id-23 div.sk-toggleable__content {max-height: 0;max-width: 0;overflow: hidden;text-align: left;background-color: #f0f8ff;}#sk-container-id-23 div.sk-toggleable__content pre {margin: 0.2em;color: black;border-radius: 0.25em;background-color: #f0f8ff;}#sk-container-id-23 input.sk-toggleable__control:checked~div.sk-toggleable__content {max-height: 200px;max-width: 100%;overflow: auto;}#sk-container-id-23 input.sk-toggleable__control:checked~label.sk-toggleable__label-arrow:before {content: \"▾\";}#sk-container-id-23 div.sk-estimator input.sk-toggleable__control:checked~label.sk-toggleable__label {background-color: #d4ebff;}#sk-container-id-23 div.sk-label input.sk-toggleable__control:checked~label.sk-toggleable__label {background-color: #d4ebff;}#sk-container-id-23 input.sk-hidden--visually {border: 0;clip: rect(1px 1px 1px 1px);clip: rect(1px, 1px, 1px, 1px);height: 1px;margin: -1px;overflow: hidden;padding: 0;position: absolute;width: 1px;}#sk-container-id-23 div.sk-estimator {font-family: monospace;background-color: #f0f8ff;border: 1px dotted black;border-radius: 0.25em;box-sizing: border-box;margin-bottom: 0.5em;}#sk-container-id-23 div.sk-estimator:hover {background-color: #d4ebff;}#sk-container-id-23 div.sk-parallel-item::after {content: \"\";width: 100%;border-bottom: 1px solid gray;flex-grow: 1;}#sk-container-id-23 div.sk-label:hover label.sk-toggleable__label {background-color: #d4ebff;}#sk-container-id-23 div.sk-serial::before {content: \"\";position: absolute;border-left: 1px solid gray;box-sizing: border-box;top: 0;bottom: 0;left: 50%;z-index: 0;}#sk-container-id-23 div.sk-serial {display: flex;flex-direction: column;align-items: center;background-color: white;padding-right: 0.2em;padding-left: 0.2em;position: relative;}#sk-container-id-23 div.sk-item {position: relative;z-index: 1;}#sk-container-id-23 div.sk-parallel {display: flex;align-items: stretch;justify-content: center;background-color: white;position: relative;}#sk-container-id-23 div.sk-item::before, #sk-container-id-23 div.sk-parallel-item::before {content: \"\";position: absolute;border-left: 1px solid gray;box-sizing: border-box;top: 0;bottom: 0;left: 50%;z-index: -1;}#sk-container-id-23 div.sk-parallel-item {display: flex;flex-direction: column;z-index: 1;position: relative;background-color: white;}#sk-container-id-23 div.sk-parallel-item:first-child::after {align-self: flex-end;width: 50%;}#sk-container-id-23 div.sk-parallel-item:last-child::after {align-self: flex-start;width: 50%;}#sk-container-id-23 div.sk-parallel-item:only-child::after {width: 0;}#sk-container-id-23 div.sk-dashed-wrapped {border: 1px dashed gray;margin: 0 0.4em 0.5em 0.4em;box-sizing: border-box;padding-bottom: 0.4em;background-color: white;}#sk-container-id-23 div.sk-label label {font-family: monospace;font-weight: bold;display: inline-block;line-height: 1.2em;}#sk-container-id-23 div.sk-label-container {text-align: center;}#sk-container-id-23 div.sk-container {/* jupyter's `normalize.less` sets `[hidden] { display: none; }` but bootstrap.min.css set `[hidden] { display: none !important; }` so we also need the `!important` here to be able to override the default hidden behavior on the sphinx rendered scikit-learn.org. See: https://github.com/scikit-learn/scikit-learn/issues/21755 */display: inline-block !important;position: relative;}#sk-container-id-23 div.sk-text-repr-fallback {display: none;}</style><div id=\"sk-container-id-23\" class=\"sk-top-container\"><div class=\"sk-text-repr-fallback\"><pre>GridSearchCV(estimator=Pipeline(steps=[(&#x27;minmax&#x27;, MinMaxScaler()),\n",
       "                                       (&#x27;svc&#x27;, SVC(probability=True))]),\n",
       "             param_grid={&#x27;svc__C&#x27;: [1, 10, 50, 100, 200, 300],\n",
       "                         &#x27;svc__gamma&#x27;: [0.0001, 0.001, 0.01, 0.1, 1],\n",
       "                         &#x27;svc__kernel&#x27;: [&#x27;rbf&#x27;]},\n",
       "             scoring=&#x27;roc_auc&#x27;)</pre><b>In a Jupyter environment, please rerun this cell to show the HTML representation or trust the notebook. <br />On GitHub, the HTML representation is unable to render, please try loading this page with nbviewer.org.</b></div><div class=\"sk-container\" hidden><div class=\"sk-item sk-dashed-wrapped\"><div class=\"sk-label-container\"><div class=\"sk-label sk-toggleable\"><input class=\"sk-toggleable__control sk-hidden--visually\" id=\"sk-estimator-id-29\" type=\"checkbox\" ><label for=\"sk-estimator-id-29\" class=\"sk-toggleable__label sk-toggleable__label-arrow\">GridSearchCV</label><div class=\"sk-toggleable__content\"><pre>GridSearchCV(estimator=Pipeline(steps=[(&#x27;minmax&#x27;, MinMaxScaler()),\n",
       "                                       (&#x27;svc&#x27;, SVC(probability=True))]),\n",
       "             param_grid={&#x27;svc__C&#x27;: [1, 10, 50, 100, 200, 300],\n",
       "                         &#x27;svc__gamma&#x27;: [0.0001, 0.001, 0.01, 0.1, 1],\n",
       "                         &#x27;svc__kernel&#x27;: [&#x27;rbf&#x27;]},\n",
       "             scoring=&#x27;roc_auc&#x27;)</pre></div></div></div><div class=\"sk-parallel\"><div class=\"sk-parallel-item\"><div class=\"sk-item\"><div class=\"sk-label-container\"><div class=\"sk-label sk-toggleable\"><input class=\"sk-toggleable__control sk-hidden--visually\" id=\"sk-estimator-id-30\" type=\"checkbox\" ><label for=\"sk-estimator-id-30\" class=\"sk-toggleable__label sk-toggleable__label-arrow\">estimator: Pipeline</label><div class=\"sk-toggleable__content\"><pre>Pipeline(steps=[(&#x27;minmax&#x27;, MinMaxScaler()), (&#x27;svc&#x27;, SVC(probability=True))])</pre></div></div></div><div class=\"sk-serial\"><div class=\"sk-item\"><div class=\"sk-serial\"><div class=\"sk-item\"><div class=\"sk-estimator sk-toggleable\"><input class=\"sk-toggleable__control sk-hidden--visually\" id=\"sk-estimator-id-31\" type=\"checkbox\" ><label for=\"sk-estimator-id-31\" class=\"sk-toggleable__label sk-toggleable__label-arrow\">MinMaxScaler</label><div class=\"sk-toggleable__content\"><pre>MinMaxScaler()</pre></div></div></div><div class=\"sk-item\"><div class=\"sk-estimator sk-toggleable\"><input class=\"sk-toggleable__control sk-hidden--visually\" id=\"sk-estimator-id-32\" type=\"checkbox\" ><label for=\"sk-estimator-id-32\" class=\"sk-toggleable__label sk-toggleable__label-arrow\">SVC</label><div class=\"sk-toggleable__content\"><pre>SVC(probability=True)</pre></div></div></div></div></div></div></div></div></div></div></div></div>"
      ],
      "text/plain": [
       "GridSearchCV(estimator=Pipeline(steps=[('minmax', MinMaxScaler()),\n",
       "                                       ('svc', SVC(probability=True))]),\n",
       "             param_grid={'svc__C': [1, 10, 50, 100, 200, 300],\n",
       "                         'svc__gamma': [0.0001, 0.001, 0.01, 0.1, 1],\n",
       "                         'svc__kernel': ['rbf']},\n",
       "             scoring='roc_auc')"
      ]
     },
     "execution_count": 298,
     "metadata": {},
     "output_type": "execute_result"
    }
   ],
   "source": [
    "# Do a grid search of your pipeline classifier using the following parameter grid: \n",
    "# {‘<your_svc_model_name>__kernel’: [‘rbf’], \n",
    "#  ‘<your_svc_model_name> __gamma’: [0.0001, 0.001, 0.01, 0.1, 1], \n",
    "#  ‘<your_svc_model_name> __C’: [1,10,50,100,200,300]}\n",
    "params = {'svc__kernel': ['rbf'], \n",
    "          'svc__gamma': [0.0001, 0.001, 0.01, 0.1, 1], \n",
    "          'svc__C': [1,10,50,100,200,300]}\n",
    "gscv_svc = GridSearchCV(estimator=pipe, param_grid=params, scoring='roc_auc')\n",
    "gscv_svc.fit(X_train, y_train.values.ravel())"
   ]
  },
  {
   "cell_type": "code",
   "execution_count": 299,
   "id": "d8870167",
   "metadata": {},
   "outputs": [
    {
     "name": "stdout",
     "output_type": "stream",
     "text": [
      "Pipeline(steps=[('minmax', MinMaxScaler()),\n",
      "                ('svc', SVC(C=200, gamma=0.01, probability=True))])\n",
      "{'svc__C': 200, 'svc__gamma': 0.01, 'svc__kernel': 'rbf'}\n",
      "0.8572617623604467\n"
     ]
    }
   ],
   "source": [
    "# Print the best estimator, its parameters, and the resulting score\n",
    "print(gscv_svc.best_estimator_)\n",
    "print(gscv_svc.best_params_)\n",
    "print(gscv_svc.best_score_)"
   ]
  },
  {
   "cell_type": "code",
   "execution_count": 300,
   "id": "43f0b670",
   "metadata": {},
   "outputs": [
    {
     "name": "stdout",
     "output_type": "stream",
     "text": [
      "              precision    recall  f1-score   support\n",
      "\n",
      "           0       0.79      0.93      0.86       167\n",
      "           1       0.83      0.60      0.70       100\n",
      "\n",
      "    accuracy                           0.81       267\n",
      "   macro avg       0.81      0.76      0.78       267\n",
      "weighted avg       0.81      0.81      0.80       267\n",
      "\n",
      "[[155  12]\n",
      " [ 40  60]]\n",
      "0.7640718562874252\n"
     ]
    }
   ],
   "source": [
    "# Apply this estimator to your test set\n",
    "best_svc = gscv_svc.best_estimator_\n",
    "pipe = Pipeline([('minmax', MinMaxScaler()), ('svc', best_svc)])\n",
    "pipe.fit(X_train, y_train.values.ravel())\n",
    "pipe_y_predict = pipe.predict(X_test)\n",
    "print(classification_report(y_test,pipe_y_predict))\n",
    "print(confusion_matrix(y_test,pipe_y_predict))\n",
    "print(roc_auc_score(y_test,pipe_y_predict))"
   ]
  },
  {
   "cell_type": "code",
   "execution_count": 301,
   "id": "3d96327c",
   "metadata": {},
   "outputs": [
    {
     "data": {
      "image/png": "[encoded data removed]",
      "text/plain": [
       "<Figure size 432x288 with 1 Axes>"
      ]
     },
     "metadata": {
      "needs_background": "light"
     },
     "output_type": "display_data"
    }
   ],
   "source": [
    "# Implement a learning curve using your best estimator from the grid search.\n",
    "# The figure should have a title of “learning curve.”\n",
    "# Label the y-axis with “Score.”\n",
    "# Label the x-axis with “Training Examples.”\n",
    "# Make the training score red.\n",
    "# Make the validation score green.\n",
    "# What does this learning curve tell you?\n",
    "train_sizes, train_scores, validation_scores = learning_curve(pipe, X_train, y_train.values.ravel(), scoring='roc_auc')\n",
    "plt.plot(train_sizes, train_scores.mean(1),'red')\n",
    "plt.plot(train_sizes, validation_scores.mean(1),'green')\n",
    "plt.title('learning curve')\n",
    "plt.ylabel('Score')\n",
    "plt.xlabel('Training Examples')\n",
    "plt.show()"
   ]
  },
  {
   "cell_type": "markdown",
   "id": "cdd5b192",
   "metadata": {},
   "source": [
    "We see that as the number of training examples increase, the training and testing scores for the best svc model begin to converge. "
   ]
  }
 ],
 "metadata": {
  "kernelspec": {
   "display_name": "Python 3 (ipykernel)",
   "language": "python",
   "name": "python3"
  },
  "language_info": {
   "codemirror_mode": {
    "name": "ipython",
    "version": 3
   },
   "file_extension": ".py",
   "mimetype": "text/x-python",
   "name": "python",
   "nbconvert_exporter": "python",
   "pygments_lexer": "ipython3",
   "version": "3.10.0"
  }
 },
 "nbformat": 4,
 "nbformat_minor": 5
}
