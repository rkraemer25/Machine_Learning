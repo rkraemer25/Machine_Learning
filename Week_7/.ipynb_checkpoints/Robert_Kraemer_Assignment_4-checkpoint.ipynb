{
 "cells": [
  {
   "cell_type": "code",
   "execution_count": 145,
   "id": "7b065373",
   "metadata": {},
   "outputs": [],
   "source": [
    "import pandas as pd\n",
    "import numpy as np\n",
    "import matplotlib.pyplot as plt\n",
    "import seaborn as sns\n",
    "import random"
   ]
  },
  {
   "cell_type": "markdown",
   "id": "3ca24977",
   "metadata": {},
   "source": [
    "## Part 1: Data Exploration"
   ]
  },
  {
   "cell_type": "markdown",
   "id": "04921ebb",
   "metadata": {},
   "source": [
    "##### Read the dataframe"
   ]
  },
  {
   "cell_type": "code",
   "execution_count": 112,
   "id": "1e3cd7fc",
   "metadata": {},
   "outputs": [
    {
     "data": {
      "text/html": [
       "<div>\n",
       "<style scoped>\n",
       "    .dataframe tbody tr th:only-of-type {\n",
       "        vertical-align: middle;\n",
       "    }\n",
       "\n",
       "    .dataframe tbody tr th {\n",
       "        vertical-align: top;\n",
       "    }\n",
       "\n",
       "    .dataframe thead th {\n",
       "        text-align: right;\n",
       "    }\n",
       "</style>\n",
       "<table border=\"1\" class=\"dataframe\">\n",
       "  <thead>\n",
       "    <tr style=\"text-align: right;\">\n",
       "      <th></th>\n",
       "      <th>instant</th>\n",
       "      <th>dteday</th>\n",
       "      <th>season</th>\n",
       "      <th>yr</th>\n",
       "      <th>mnth</th>\n",
       "      <th>hr</th>\n",
       "      <th>holiday</th>\n",
       "      <th>weekday</th>\n",
       "      <th>workingday</th>\n",
       "      <th>weathersit</th>\n",
       "      <th>temp</th>\n",
       "      <th>atemp</th>\n",
       "      <th>hum</th>\n",
       "      <th>windspeed</th>\n",
       "      <th>casual</th>\n",
       "      <th>registered</th>\n",
       "      <th>cnt</th>\n",
       "    </tr>\n",
       "  </thead>\n",
       "  <tbody>\n",
       "    <tr>\n",
       "      <th>0</th>\n",
       "      <td>1</td>\n",
       "      <td>2011-01-01</td>\n",
       "      <td>1</td>\n",
       "      <td>0</td>\n",
       "      <td>1</td>\n",
       "      <td>0</td>\n",
       "      <td>0</td>\n",
       "      <td>6</td>\n",
       "      <td>0</td>\n",
       "      <td>1</td>\n",
       "      <td>0.24</td>\n",
       "      <td>0.2879</td>\n",
       "      <td>0.81</td>\n",
       "      <td>0.0</td>\n",
       "      <td>3</td>\n",
       "      <td>13</td>\n",
       "      <td>16</td>\n",
       "    </tr>\n",
       "    <tr>\n",
       "      <th>1</th>\n",
       "      <td>2</td>\n",
       "      <td>2011-01-01</td>\n",
       "      <td>1</td>\n",
       "      <td>0</td>\n",
       "      <td>1</td>\n",
       "      <td>1</td>\n",
       "      <td>0</td>\n",
       "      <td>6</td>\n",
       "      <td>0</td>\n",
       "      <td>1</td>\n",
       "      <td>0.22</td>\n",
       "      <td>0.2727</td>\n",
       "      <td>0.80</td>\n",
       "      <td>0.0</td>\n",
       "      <td>8</td>\n",
       "      <td>32</td>\n",
       "      <td>40</td>\n",
       "    </tr>\n",
       "    <tr>\n",
       "      <th>2</th>\n",
       "      <td>3</td>\n",
       "      <td>2011-01-01</td>\n",
       "      <td>1</td>\n",
       "      <td>0</td>\n",
       "      <td>1</td>\n",
       "      <td>2</td>\n",
       "      <td>0</td>\n",
       "      <td>6</td>\n",
       "      <td>0</td>\n",
       "      <td>1</td>\n",
       "      <td>0.22</td>\n",
       "      <td>0.2727</td>\n",
       "      <td>0.80</td>\n",
       "      <td>0.0</td>\n",
       "      <td>5</td>\n",
       "      <td>27</td>\n",
       "      <td>32</td>\n",
       "    </tr>\n",
       "    <tr>\n",
       "      <th>3</th>\n",
       "      <td>4</td>\n",
       "      <td>2011-01-01</td>\n",
       "      <td>1</td>\n",
       "      <td>0</td>\n",
       "      <td>1</td>\n",
       "      <td>3</td>\n",
       "      <td>0</td>\n",
       "      <td>6</td>\n",
       "      <td>0</td>\n",
       "      <td>1</td>\n",
       "      <td>0.24</td>\n",
       "      <td>0.2879</td>\n",
       "      <td>0.75</td>\n",
       "      <td>0.0</td>\n",
       "      <td>3</td>\n",
       "      <td>10</td>\n",
       "      <td>13</td>\n",
       "    </tr>\n",
       "    <tr>\n",
       "      <th>4</th>\n",
       "      <td>5</td>\n",
       "      <td>2011-01-01</td>\n",
       "      <td>1</td>\n",
       "      <td>0</td>\n",
       "      <td>1</td>\n",
       "      <td>4</td>\n",
       "      <td>0</td>\n",
       "      <td>6</td>\n",
       "      <td>0</td>\n",
       "      <td>1</td>\n",
       "      <td>0.24</td>\n",
       "      <td>0.2879</td>\n",
       "      <td>0.75</td>\n",
       "      <td>0.0</td>\n",
       "      <td>0</td>\n",
       "      <td>1</td>\n",
       "      <td>1</td>\n",
       "    </tr>\n",
       "  </tbody>\n",
       "</table>\n",
       "</div>"
      ],
      "text/plain": [
       "   instant      dteday  season  yr  mnth  hr  holiday  weekday  workingday  \\\n",
       "0        1  2011-01-01       1   0     1   0        0        6           0   \n",
       "1        2  2011-01-01       1   0     1   1        0        6           0   \n",
       "2        3  2011-01-01       1   0     1   2        0        6           0   \n",
       "3        4  2011-01-01       1   0     1   3        0        6           0   \n",
       "4        5  2011-01-01       1   0     1   4        0        6           0   \n",
       "\n",
       "   weathersit  temp   atemp   hum  windspeed  casual  registered  cnt  \n",
       "0           1  0.24  0.2879  0.81        0.0       3          13   16  \n",
       "1           1  0.22  0.2727  0.80        0.0       8          32   40  \n",
       "2           1  0.22  0.2727  0.80        0.0       5          27   32  \n",
       "3           1  0.24  0.2879  0.75        0.0       3          10   13  \n",
       "4           1  0.24  0.2879  0.75        0.0       0           1    1  "
      ]
     },
     "execution_count": 112,
     "metadata": {},
     "output_type": "execute_result"
    }
   ],
   "source": [
    "bike_share = pd.read_csv(\"bike_share_hour.csv\", skipinitialspace=True)\n",
    "bike_share.head(5)"
   ]
  },
  {
   "cell_type": "markdown",
   "id": "b44051f6",
   "metadata": {},
   "source": [
    "##### Look at the dataset and covert columns categorical to category type"
   ]
  },
  {
   "cell_type": "code",
   "execution_count": 113,
   "id": "96787b66",
   "metadata": {},
   "outputs": [
    {
     "data": {
      "text/plain": [
       "instant         int64\n",
       "dteday         object\n",
       "season          int64\n",
       "yr              int64\n",
       "mnth            int64\n",
       "hr              int64\n",
       "holiday         int64\n",
       "weekday         int64\n",
       "workingday      int64\n",
       "weathersit      int64\n",
       "temp          float64\n",
       "atemp         float64\n",
       "hum           float64\n",
       "windspeed     float64\n",
       "casual          int64\n",
       "registered      int64\n",
       "cnt             int64\n",
       "dtype: object"
      ]
     },
     "execution_count": 113,
     "metadata": {},
     "output_type": "execute_result"
    }
   ],
   "source": [
    "bike_share.dtypes"
   ]
  },
  {
   "cell_type": "code",
   "execution_count": 114,
   "id": "ef5c1341",
   "metadata": {},
   "outputs": [],
   "source": [
    "for col in ['season', 'yr', 'mnth',  'holiday', 'weekday', 'workingday', 'weathersit']:\n",
    "    bike_share[col] = bike_share[col].astype('category')"
   ]
  },
  {
   "cell_type": "code",
   "execution_count": 115,
   "id": "0be21edb",
   "metadata": {},
   "outputs": [],
   "source": [
    "# changing dteday to time stamp\n",
    "bike_share['dteday'] = pd.to_datetime(bike_share['dteday'])"
   ]
  },
  {
   "cell_type": "markdown",
   "id": "4114d56f",
   "metadata": {},
   "source": [
    "##### Observing null values"
   ]
  },
  {
   "cell_type": "code",
   "execution_count": 116,
   "id": "2d961a3e",
   "metadata": {},
   "outputs": [
    {
     "data": {
      "text/plain": [
       "instant       0\n",
       "dteday        0\n",
       "season        0\n",
       "yr            0\n",
       "mnth          0\n",
       "hr            0\n",
       "holiday       0\n",
       "weekday       0\n",
       "workingday    0\n",
       "weathersit    0\n",
       "temp          0\n",
       "atemp         0\n",
       "hum           0\n",
       "windspeed     0\n",
       "casual        0\n",
       "registered    0\n",
       "cnt           0\n",
       "dtype: int64"
      ]
     },
     "execution_count": 116,
     "metadata": {},
     "output_type": "execute_result"
    }
   ],
   "source": [
    "bike_share.isnull().sum()"
   ]
  },
  {
   "cell_type": "markdown",
   "id": "801cfde4",
   "metadata": {},
   "source": [
    "Here we can see that there are no null values in the dataset."
   ]
  },
  {
   "cell_type": "markdown",
   "id": "095eab89",
   "metadata": {},
   "source": [
    "##### Descriptive analysis of numeric columns"
   ]
  },
  {
   "cell_type": "code",
   "execution_count": 117,
   "id": "1c2a8256",
   "metadata": {},
   "outputs": [
    {
     "data": {
      "text/html": [
       "<div>\n",
       "<style scoped>\n",
       "    .dataframe tbody tr th:only-of-type {\n",
       "        vertical-align: middle;\n",
       "    }\n",
       "\n",
       "    .dataframe tbody tr th {\n",
       "        vertical-align: top;\n",
       "    }\n",
       "\n",
       "    .dataframe thead th {\n",
       "        text-align: right;\n",
       "    }\n",
       "</style>\n",
       "<table border=\"1\" class=\"dataframe\">\n",
       "  <thead>\n",
       "    <tr style=\"text-align: right;\">\n",
       "      <th></th>\n",
       "      <th>instant</th>\n",
       "      <th>hr</th>\n",
       "      <th>temp</th>\n",
       "      <th>atemp</th>\n",
       "      <th>hum</th>\n",
       "      <th>windspeed</th>\n",
       "      <th>casual</th>\n",
       "      <th>registered</th>\n",
       "      <th>cnt</th>\n",
       "    </tr>\n",
       "  </thead>\n",
       "  <tbody>\n",
       "    <tr>\n",
       "      <th>count</th>\n",
       "      <td>17379.0000</td>\n",
       "      <td>17379.000000</td>\n",
       "      <td>17379.000000</td>\n",
       "      <td>17379.000000</td>\n",
       "      <td>17379.000000</td>\n",
       "      <td>17379.000000</td>\n",
       "      <td>17379.000000</td>\n",
       "      <td>17379.000000</td>\n",
       "      <td>17379.000000</td>\n",
       "    </tr>\n",
       "    <tr>\n",
       "      <th>mean</th>\n",
       "      <td>8690.0000</td>\n",
       "      <td>11.546752</td>\n",
       "      <td>0.496987</td>\n",
       "      <td>0.475775</td>\n",
       "      <td>0.627229</td>\n",
       "      <td>0.190098</td>\n",
       "      <td>35.676218</td>\n",
       "      <td>153.786869</td>\n",
       "      <td>189.463088</td>\n",
       "    </tr>\n",
       "    <tr>\n",
       "      <th>std</th>\n",
       "      <td>5017.0295</td>\n",
       "      <td>6.914405</td>\n",
       "      <td>0.192556</td>\n",
       "      <td>0.171850</td>\n",
       "      <td>0.192930</td>\n",
       "      <td>0.122340</td>\n",
       "      <td>49.305030</td>\n",
       "      <td>151.357286</td>\n",
       "      <td>181.387599</td>\n",
       "    </tr>\n",
       "    <tr>\n",
       "      <th>min</th>\n",
       "      <td>1.0000</td>\n",
       "      <td>0.000000</td>\n",
       "      <td>0.020000</td>\n",
       "      <td>0.000000</td>\n",
       "      <td>0.000000</td>\n",
       "      <td>0.000000</td>\n",
       "      <td>0.000000</td>\n",
       "      <td>0.000000</td>\n",
       "      <td>1.000000</td>\n",
       "    </tr>\n",
       "    <tr>\n",
       "      <th>25%</th>\n",
       "      <td>4345.5000</td>\n",
       "      <td>6.000000</td>\n",
       "      <td>0.340000</td>\n",
       "      <td>0.333300</td>\n",
       "      <td>0.480000</td>\n",
       "      <td>0.104500</td>\n",
       "      <td>4.000000</td>\n",
       "      <td>34.000000</td>\n",
       "      <td>40.000000</td>\n",
       "    </tr>\n",
       "    <tr>\n",
       "      <th>50%</th>\n",
       "      <td>8690.0000</td>\n",
       "      <td>12.000000</td>\n",
       "      <td>0.500000</td>\n",
       "      <td>0.484800</td>\n",
       "      <td>0.630000</td>\n",
       "      <td>0.194000</td>\n",
       "      <td>17.000000</td>\n",
       "      <td>115.000000</td>\n",
       "      <td>142.000000</td>\n",
       "    </tr>\n",
       "    <tr>\n",
       "      <th>75%</th>\n",
       "      <td>13034.5000</td>\n",
       "      <td>18.000000</td>\n",
       "      <td>0.660000</td>\n",
       "      <td>0.621200</td>\n",
       "      <td>0.780000</td>\n",
       "      <td>0.253700</td>\n",
       "      <td>48.000000</td>\n",
       "      <td>220.000000</td>\n",
       "      <td>281.000000</td>\n",
       "    </tr>\n",
       "    <tr>\n",
       "      <th>max</th>\n",
       "      <td>17379.0000</td>\n",
       "      <td>23.000000</td>\n",
       "      <td>1.000000</td>\n",
       "      <td>1.000000</td>\n",
       "      <td>1.000000</td>\n",
       "      <td>0.850700</td>\n",
       "      <td>367.000000</td>\n",
       "      <td>886.000000</td>\n",
       "      <td>977.000000</td>\n",
       "    </tr>\n",
       "  </tbody>\n",
       "</table>\n",
       "</div>"
      ],
      "text/plain": [
       "          instant            hr          temp         atemp           hum  \\\n",
       "count  17379.0000  17379.000000  17379.000000  17379.000000  17379.000000   \n",
       "mean    8690.0000     11.546752      0.496987      0.475775      0.627229   \n",
       "std     5017.0295      6.914405      0.192556      0.171850      0.192930   \n",
       "min        1.0000      0.000000      0.020000      0.000000      0.000000   \n",
       "25%     4345.5000      6.000000      0.340000      0.333300      0.480000   \n",
       "50%     8690.0000     12.000000      0.500000      0.484800      0.630000   \n",
       "75%    13034.5000     18.000000      0.660000      0.621200      0.780000   \n",
       "max    17379.0000     23.000000      1.000000      1.000000      1.000000   \n",
       "\n",
       "          windspeed        casual    registered           cnt  \n",
       "count  17379.000000  17379.000000  17379.000000  17379.000000  \n",
       "mean       0.190098     35.676218    153.786869    189.463088  \n",
       "std        0.122340     49.305030    151.357286    181.387599  \n",
       "min        0.000000      0.000000      0.000000      1.000000  \n",
       "25%        0.104500      4.000000     34.000000     40.000000  \n",
       "50%        0.194000     17.000000    115.000000    142.000000  \n",
       "75%        0.253700     48.000000    220.000000    281.000000  \n",
       "max        0.850700    367.000000    886.000000    977.000000  "
      ]
     },
     "execution_count": 117,
     "metadata": {},
     "output_type": "execute_result"
    }
   ],
   "source": [
    "bike_share.describe()"
   ]
  },
  {
   "cell_type": "markdown",
   "id": "ac199f4e",
   "metadata": {},
   "source": [
    "##### Implement a bar plot of cnt versus season. Document which seasonhasthe most bike rides and which season has the least."
   ]
  },
  {
   "cell_type": "code",
   "execution_count": 118,
   "id": "ff6db8e2",
   "metadata": {},
   "outputs": [
    {
     "data": {
      "image/png": "[encoded data removed]",
      "text/plain": [
       "<Figure size 864x576 with 1 Axes>"
      ]
     },
     "metadata": {},
     "output_type": "display_data"
    }
   ],
   "source": [
    "sns.barplot(x=['1', '2', '3', '4'], y = bike_share.groupby(['season']).sum()['cnt'])\n",
    "plt.title('Season vs Count')\n",
    "plt.xlabel(\"Season\")\n",
    "plt.ylabel(\"Count\")\n",
    "plt.show()\n"
   ]
  },
  {
   "cell_type": "markdown",
   "id": "e658df73",
   "metadata": {},
   "source": [
    "Here we can see that Season 3 (fall) has the most bike rides, while Season 1 (spring) has the least amount of bike rides."
   ]
  },
  {
   "cell_type": "markdown",
   "id": "16a16716",
   "metadata": {},
   "source": [
    "##### Implement a bar chart for working day versus count. Document howbikerides are distributed across these two classes."
   ]
  },
  {
   "cell_type": "code",
   "execution_count": 119,
   "id": "1039e2d5",
   "metadata": {},
   "outputs": [
    {
     "data": {
      "image/png": "[encoded data removed]",
      "text/plain": [
       "<Figure size 864x576 with 1 Axes>"
      ]
     },
     "metadata": {},
     "output_type": "display_data"
    }
   ],
   "source": [
    "sns.barplot(x=['0', '1'], y = bike_share.groupby(['workingday']).sum()['cnt'])\n",
    "plt.title('Workingday vs Count')\n",
    "plt.xlabel(\"Workingday\")\n",
    "plt.ylabel(\"Count\")\n",
    "plt.show()"
   ]
  },
  {
   "cell_type": "code",
   "execution_count": 120,
   "id": "edf574df",
   "metadata": {
    "scrolled": true
   },
   "outputs": [
    {
     "data": {
      "text/plain": [
       "workingday\n",
       "0    1000269\n",
       "1    2292410\n",
       "Name: cnt, dtype: int64"
      ]
     },
     "execution_count": 120,
     "metadata": {},
     "output_type": "execute_result"
    }
   ],
   "source": [
    "bike_share.groupby(['workingday']).sum()['cnt']"
   ]
  },
  {
   "cell_type": "markdown",
   "id": "1dacfc84",
   "metadata": {},
   "source": [
    "Based on this bar chart we can see that the when the Working Day is neither a holiday nor a weekend, the bike rental count is higher. When it is a holiday or weekend, the bike rental count is lower. One thought could be that many working people bike to work creating a higher count for the non-holiday/weekend."
   ]
  },
  {
   "cell_type": "markdown",
   "id": "446fdc1d",
   "metadata": {},
   "source": [
    "##### Implement a bar chart for month versus count. Document which monthshave the most bike rides."
   ]
  },
  {
   "cell_type": "code",
   "execution_count": 121,
   "id": "fcdecede",
   "metadata": {},
   "outputs": [
    {
     "data": {
      "image/png": "[encoded data removed]",
      "text/plain": [
       "<Figure size 864x576 with 1 Axes>"
      ]
     },
     "metadata": {},
     "output_type": "display_data"
    }
   ],
   "source": [
    "months = list(bike_share['mnth'].unique())\n",
    "\n",
    "sns.barplot(x=months, y = bike_share.groupby(['mnth']).sum()['cnt'])\n",
    "plt.title('Month vs Count')\n",
    "plt.xlabel(\"Month\")\n",
    "plt.ylabel(\"Count\")\n",
    "plt.show()"
   ]
  },
  {
   "cell_type": "markdown",
   "id": "c52818e0",
   "metadata": {},
   "source": [
    "Based on the graph we can see that August (Month 8) has the highest number of bike rentals, wwith 9, 7, and 6 being the next highest months. The lowest month with bike rentals is January (Month 1) and this could be due to the cold weather. "
   ]
  },
  {
   "cell_type": "markdown",
   "id": "3a808705",
   "metadata": {},
   "source": [
    "##### Implement code to figure out which months belong to which seasons"
   ]
  },
  {
   "cell_type": "code",
   "execution_count": 122,
   "id": "320c19b0",
   "metadata": {},
   "outputs": [
    {
     "data": {
      "text/plain": [
       "{1: [1, 2, 3, 12], 2: [3, 4, 5, 6], 3: [6, 7, 8, 9], 4: [9, 10, 11, 12]}"
      ]
     },
     "execution_count": 122,
     "metadata": {},
     "output_type": "execute_result"
    }
   ],
   "source": [
    "temp = bike_share[['season','mnth']].drop_duplicates()\n",
    "seas_mnth = {}\n",
    "for val in [1, 2, 3, 4]:\n",
    "    seas_mnth[val] = list(temp[temp['season']==val]['mnth'])\n",
    "\n",
    "seas_mnth"
   ]
  },
  {
   "cell_type": "markdown",
   "id": "d772e505",
   "metadata": {},
   "source": [
    "* Season 1: Months: 1, 2, 3, 12\n",
    "* Season 2: Months: 3, 4, 5, 6\n",
    "* Season 3: Months: 6, 7, 8, 9\n",
    "* Season 4: Months: 9, 10, 11, 12"
   ]
  },
  {
   "cell_type": "markdown",
   "id": "4e0806bd",
   "metadata": {},
   "source": [
    "##### Implement a bar plot of weathersit versus cnt. Document which weather situation has less bike rentals. "
   ]
  },
  {
   "cell_type": "code",
   "execution_count": 123,
   "id": "d0dcf618",
   "metadata": {},
   "outputs": [
    {
     "data": {
      "image/png": "[encoded data removed]",
      "text/plain": [
       "<Figure size 864x576 with 1 Axes>"
      ]
     },
     "metadata": {},
     "output_type": "display_data"
    }
   ],
   "source": [
    "weather = list(bike_share['weathersit'].unique())\n",
    "\n",
    "sns.barplot(x=weather, y = bike_share.groupby(['weathersit']).sum()['cnt'])\n",
    "plt.title('Weathersit vs Count')\n",
    "plt.xlabel(\"Weathersit\")\n",
    "plt.ylabel(\"Count\")\n",
    "plt.show()"
   ]
  },
  {
   "cell_type": "markdown",
   "id": "cf817b3a",
   "metadata": {},
   "source": [
    "Here we can see that Weathersit 1 has the highest amount of bike rentals. Weathersit 1 is a clear, few clouds, partly cloudy day. We can see a degression of bike rentals as the weather gets worse. Weathersit 4 (Heavy rain + Ice Pallets + Thunderstorm + Mist) has almost no bike rentals."
   ]
  },
  {
   "cell_type": "markdown",
   "id": "da905a16",
   "metadata": {},
   "source": [
    "##### Implement a point plot of weathersit on the x-axis, count on the y-axis, andthe season as the hue. Document how season and weathersit arerelated."
   ]
  },
  {
   "cell_type": "code",
   "execution_count": 124,
   "id": "658db6ef",
   "metadata": {},
   "outputs": [
    {
     "data": {
      "text/plain": [
       "<AxesSubplot:xlabel='weathersit', ylabel='cnt'>"
      ]
     },
     "execution_count": 124,
     "metadata": {},
     "output_type": "execute_result"
    },
    {
     "data": {
      "image/png": "[encoded data removed]",
      "text/plain": [
       "<Figure size 864x576 with 1 Axes>"
      ]
     },
     "metadata": {},
     "output_type": "display_data"
    }
   ],
   "source": [
    "sns.pointplot(data = bike_share, x = 'weathersit', y = 'cnt', hue = 'season')"
   ]
  },
  {
   "cell_type": "markdown",
   "id": "ea06ce2e",
   "metadata": {},
   "source": [
    "In point plot above, we can see that for each season, weathersit 1 will have the highest amount of bike rentals, and as the weather gets worse in the season, the bike rentals decreases. Interesting the only season that had bike rentals with a weathersit 4 is season 4 (Winter)."
   ]
  },
  {
   "cell_type": "markdown",
   "id": "e351bc5f",
   "metadata": {},
   "source": [
    "##### Implement a bar plot of hour versus count. Are there any specific hoursthat are busier than others?"
   ]
  },
  {
   "cell_type": "code",
   "execution_count": 125,
   "id": "52a2392e",
   "metadata": {},
   "outputs": [
    {
     "data": {
      "image/png": "[encoded data removed]",
      "text/plain": [
       "<Figure size 864x576 with 1 Axes>"
      ]
     },
     "metadata": {},
     "output_type": "display_data"
    }
   ],
   "source": [
    "hour = list(bike_share['hr'].unique())\n",
    "\n",
    "sns.barplot(x=hour, y = bike_share.groupby(['hr']).sum()['cnt'])\n",
    "plt.title('Hour vs Count')\n",
    "plt.xlabel(\"Hour\")\n",
    "plt.ylabel(\"Count\")\n",
    "plt.show()"
   ]
  },
  {
   "cell_type": "raw",
   "id": "e267c8d9",
   "metadata": {},
   "source": [
    "Looking at the bar plot we see that hours 0800, 1700, and 1800, are busier for bike rentals. These specific hours are at the start and end of a workday. People may be biking to and from work. The least busiest times are during the early morning hours 0000-0500. "
   ]
  },
  {
   "cell_type": "markdown",
   "id": "deb11c8f",
   "metadata": {},
   "source": [
    "##### Implement a bar plot of hour versus count on weekends and holidays(when workingday = 0). Does the hourly trend change on weekends?"
   ]
  },
  {
   "cell_type": "code",
   "execution_count": 126,
   "id": "608aa8db",
   "metadata": {},
   "outputs": [
    {
     "data": {
      "image/png": "[encoded data removed]",
      "text/plain": [
       "<Figure size 864x576 with 1 Axes>"
      ]
     },
     "metadata": {},
     "output_type": "display_data"
    }
   ],
   "source": [
    "temp = bike_share[bike_share['workingday'] == 0]\n",
    "hour = list(temp['hr'].unique())\n",
    "\n",
    "sns.barplot(x=hour, y = temp.groupby(['hr']).sum()['cnt'])\n",
    "plt.title('Hour vs Count')\n",
    "plt.xlabel(\"Hour\")\n",
    "plt.ylabel(\"Count\")\n",
    "plt.show()"
   ]
  },
  {
   "cell_type": "markdown",
   "id": "dd413308",
   "metadata": {},
   "source": [
    "When it is a holiday The bike rentals appear normally distributed, with the peak hours being is the early mid-day to late afternoon. "
   ]
  },
  {
   "cell_type": "markdown",
   "id": "9cb9f682",
   "metadata": {},
   "source": [
    "## Part 2 Data Preparation"
   ]
  },
  {
   "cell_type": "markdown",
   "id": "2ae25303",
   "metadata": {},
   "source": [
    "##### Implement and graph a correlation matrix with the remaining numericfeatures. Any interesting relationships?"
   ]
  },
  {
   "cell_type": "code",
   "execution_count": 127,
   "id": "bb6d9482",
   "metadata": {},
   "outputs": [
    {
     "name": "stdout",
     "output_type": "stream",
     "text": [
      "             instant        hr      temp     atemp       hum  windspeed  \\\n",
      "instant     1.000000 -0.004775  0.136178  0.137615  0.009577  -0.074505   \n",
      "hr         -0.004775  1.000000  0.137603  0.133750 -0.276498   0.137252   \n",
      "temp        0.136178  0.137603  1.000000  0.987672 -0.069881  -0.023125   \n",
      "atemp       0.137615  0.133750  0.987672  1.000000 -0.051918  -0.062336   \n",
      "hum         0.009577 -0.276498 -0.069881 -0.051918  1.000000  -0.290105   \n",
      "windspeed  -0.074505  0.137252 -0.023125 -0.062336 -0.290105   1.000000   \n",
      "casual      0.158295  0.301202  0.459616  0.454080 -0.347028   0.090287   \n",
      "registered  0.282046  0.374141  0.335361  0.332559 -0.273933   0.082321   \n",
      "cnt         0.278379  0.394071  0.404772  0.400929 -0.322911   0.093234   \n",
      "\n",
      "              casual  registered       cnt  \n",
      "instant     0.158295    0.282046  0.278379  \n",
      "hr          0.301202    0.374141  0.394071  \n",
      "temp        0.459616    0.335361  0.404772  \n",
      "atemp       0.454080    0.332559  0.400929  \n",
      "hum        -0.347028   -0.273933 -0.322911  \n",
      "windspeed   0.090287    0.082321  0.093234  \n",
      "casual      1.000000    0.506618  0.694564  \n",
      "registered  0.506618    1.000000  0.972151  \n",
      "cnt         0.694564    0.972151  1.000000  \n"
     ]
    },
    {
     "data": {
      "image/png": "[encoded data removed]",
      "text/plain": [
       "<Figure size 864x576 with 2 Axes>"
      ]
     },
     "metadata": {},
     "output_type": "display_data"
    }
   ],
   "source": [
    "corrMatrix = bike_share.corr()\n",
    "print (corrMatrix)\n",
    "sns.set(rc={\"figure.figsize\":(12, 8)})\n",
    "sns.heatmap(corrMatrix, annot=True)\n",
    "plt.show()"
   ]
  },
  {
   "cell_type": "markdown",
   "id": "bb694989",
   "metadata": {},
   "source": [
    "From the correlation matrix we can see that cnt is highly correlated to registered and atemp is highly correlated to temp. The next highest correlation we see is cnt with the casual variable, and then cnt with casual."
   ]
  },
  {
   "cell_type": "markdown",
   "id": "ecaf3f38",
   "metadata": {},
   "source": [
    "##### Scale the numerical features using StandardScaler(), and replacetheoriginal columns in your dataframe."
   ]
  },
  {
   "cell_type": "code",
   "execution_count": 128,
   "id": "a43138d0",
   "metadata": {},
   "outputs": [],
   "source": [
    "from sklearn.preprocessing import StandardScaler"
   ]
  },
  {
   "cell_type": "code",
   "execution_count": 129,
   "id": "bb041221",
   "metadata": {},
   "outputs": [],
   "source": [
    "for col in ['instant', 'hr', 'temp', 'atemp', 'hum', 'windspeed', 'casual', 'registered', 'cnt']:\n",
    "    arr = np.array(bike_share[col])\n",
    "    scaler = StandardScaler()\n",
    "    scaler.fit(arr.reshape(-1,1))\n",
    "    bike_share[col]=scaler.transform(arr.reshape(-1,1))"
   ]
  },
  {
   "cell_type": "code",
   "execution_count": 130,
   "id": "d6685bf6",
   "metadata": {},
   "outputs": [
    {
     "data": {
      "text/html": [
       "<div>\n",
       "<style scoped>\n",
       "    .dataframe tbody tr th:only-of-type {\n",
       "        vertical-align: middle;\n",
       "    }\n",
       "\n",
       "    .dataframe tbody tr th {\n",
       "        vertical-align: top;\n",
       "    }\n",
       "\n",
       "    .dataframe thead th {\n",
       "        text-align: right;\n",
       "    }\n",
       "</style>\n",
       "<table border=\"1\" class=\"dataframe\">\n",
       "  <thead>\n",
       "    <tr style=\"text-align: right;\">\n",
       "      <th></th>\n",
       "      <th>instant</th>\n",
       "      <th>dteday</th>\n",
       "      <th>season</th>\n",
       "      <th>yr</th>\n",
       "      <th>mnth</th>\n",
       "      <th>hr</th>\n",
       "      <th>holiday</th>\n",
       "      <th>weekday</th>\n",
       "      <th>workingday</th>\n",
       "      <th>weathersit</th>\n",
       "      <th>temp</th>\n",
       "      <th>atemp</th>\n",
       "      <th>hum</th>\n",
       "      <th>windspeed</th>\n",
       "      <th>casual</th>\n",
       "      <th>registered</th>\n",
       "      <th>cnt</th>\n",
       "    </tr>\n",
       "  </thead>\n",
       "  <tbody>\n",
       "    <tr>\n",
       "      <th>0</th>\n",
       "      <td>-1.731951</td>\n",
       "      <td>2011-01-01</td>\n",
       "      <td>1</td>\n",
       "      <td>0</td>\n",
       "      <td>1</td>\n",
       "      <td>-1.670004</td>\n",
       "      <td>0</td>\n",
       "      <td>6</td>\n",
       "      <td>0</td>\n",
       "      <td>1</td>\n",
       "      <td>-1.334648</td>\n",
       "      <td>-1.093281</td>\n",
       "      <td>0.947372</td>\n",
       "      <td>-1.553889</td>\n",
       "      <td>-0.662755</td>\n",
       "      <td>-0.930189</td>\n",
       "      <td>-0.956339</td>\n",
       "    </tr>\n",
       "    <tr>\n",
       "      <th>1</th>\n",
       "      <td>-1.731752</td>\n",
       "      <td>2011-01-01</td>\n",
       "      <td>1</td>\n",
       "      <td>0</td>\n",
       "      <td>1</td>\n",
       "      <td>-1.525374</td>\n",
       "      <td>0</td>\n",
       "      <td>6</td>\n",
       "      <td>0</td>\n",
       "      <td>1</td>\n",
       "      <td>-1.438516</td>\n",
       "      <td>-1.181732</td>\n",
       "      <td>0.895539</td>\n",
       "      <td>-1.553889</td>\n",
       "      <td>-0.561343</td>\n",
       "      <td>-0.804655</td>\n",
       "      <td>-0.824022</td>\n",
       "    </tr>\n",
       "    <tr>\n",
       "      <th>2</th>\n",
       "      <td>-1.731552</td>\n",
       "      <td>2011-01-01</td>\n",
       "      <td>1</td>\n",
       "      <td>0</td>\n",
       "      <td>1</td>\n",
       "      <td>-1.380744</td>\n",
       "      <td>0</td>\n",
       "      <td>6</td>\n",
       "      <td>0</td>\n",
       "      <td>1</td>\n",
       "      <td>-1.438516</td>\n",
       "      <td>-1.181732</td>\n",
       "      <td>0.895539</td>\n",
       "      <td>-1.553889</td>\n",
       "      <td>-0.622190</td>\n",
       "      <td>-0.837690</td>\n",
       "      <td>-0.868128</td>\n",
       "    </tr>\n",
       "    <tr>\n",
       "      <th>3</th>\n",
       "      <td>-1.731353</td>\n",
       "      <td>2011-01-01</td>\n",
       "      <td>1</td>\n",
       "      <td>0</td>\n",
       "      <td>1</td>\n",
       "      <td>-1.236115</td>\n",
       "      <td>0</td>\n",
       "      <td>6</td>\n",
       "      <td>0</td>\n",
       "      <td>1</td>\n",
       "      <td>-1.334648</td>\n",
       "      <td>-1.093281</td>\n",
       "      <td>0.636370</td>\n",
       "      <td>-1.553889</td>\n",
       "      <td>-0.662755</td>\n",
       "      <td>-0.950010</td>\n",
       "      <td>-0.972879</td>\n",
       "    </tr>\n",
       "    <tr>\n",
       "      <th>4</th>\n",
       "      <td>-1.731154</td>\n",
       "      <td>2011-01-01</td>\n",
       "      <td>1</td>\n",
       "      <td>0</td>\n",
       "      <td>1</td>\n",
       "      <td>-1.091485</td>\n",
       "      <td>0</td>\n",
       "      <td>6</td>\n",
       "      <td>0</td>\n",
       "      <td>1</td>\n",
       "      <td>-1.334648</td>\n",
       "      <td>-1.093281</td>\n",
       "      <td>0.636370</td>\n",
       "      <td>-1.553889</td>\n",
       "      <td>-0.723603</td>\n",
       "      <td>-1.009474</td>\n",
       "      <td>-1.039037</td>\n",
       "    </tr>\n",
       "  </tbody>\n",
       "</table>\n",
       "</div>"
      ],
      "text/plain": [
       "    instant     dteday season yr mnth        hr holiday weekday workingday  \\\n",
       "0 -1.731951 2011-01-01      1  0    1 -1.670004       0       6          0   \n",
       "1 -1.731752 2011-01-01      1  0    1 -1.525374       0       6          0   \n",
       "2 -1.731552 2011-01-01      1  0    1 -1.380744       0       6          0   \n",
       "3 -1.731353 2011-01-01      1  0    1 -1.236115       0       6          0   \n",
       "4 -1.731154 2011-01-01      1  0    1 -1.091485       0       6          0   \n",
       "\n",
       "  weathersit      temp     atemp       hum  windspeed    casual  registered  \\\n",
       "0          1 -1.334648 -1.093281  0.947372  -1.553889 -0.662755   -0.930189   \n",
       "1          1 -1.438516 -1.181732  0.895539  -1.553889 -0.561343   -0.804655   \n",
       "2          1 -1.438516 -1.181732  0.895539  -1.553889 -0.622190   -0.837690   \n",
       "3          1 -1.334648 -1.093281  0.636370  -1.553889 -0.662755   -0.950010   \n",
       "4          1 -1.334648 -1.093281  0.636370  -1.553889 -0.723603   -1.009474   \n",
       "\n",
       "        cnt  \n",
       "0 -0.956339  \n",
       "1 -0.824022  \n",
       "2 -0.868128  \n",
       "3 -0.972879  \n",
       "4 -1.039037  "
      ]
     },
     "execution_count": 130,
     "metadata": {},
     "output_type": "execute_result"
    }
   ],
   "source": [
    "bike_share.head(5)"
   ]
  },
  {
   "cell_type": "markdown",
   "id": "718a4da9",
   "metadata": {},
   "source": [
    "##### Drop the following columns from your dataset: casual, registered, dteday, instant."
   ]
  },
  {
   "cell_type": "code",
   "execution_count": 131,
   "id": "4787c018",
   "metadata": {},
   "outputs": [],
   "source": [
    "bike_share.drop(columns = ['casual', 'registered', 'dteday', 'instant'], inplace = True)"
   ]
  },
  {
   "cell_type": "code",
   "execution_count": 132,
   "id": "301116df",
   "metadata": {},
   "outputs": [
    {
     "data": {
      "text/html": [
       "<div>\n",
       "<style scoped>\n",
       "    .dataframe tbody tr th:only-of-type {\n",
       "        vertical-align: middle;\n",
       "    }\n",
       "\n",
       "    .dataframe tbody tr th {\n",
       "        vertical-align: top;\n",
       "    }\n",
       "\n",
       "    .dataframe thead th {\n",
       "        text-align: right;\n",
       "    }\n",
       "</style>\n",
       "<table border=\"1\" class=\"dataframe\">\n",
       "  <thead>\n",
       "    <tr style=\"text-align: right;\">\n",
       "      <th></th>\n",
       "      <th>season</th>\n",
       "      <th>yr</th>\n",
       "      <th>mnth</th>\n",
       "      <th>hr</th>\n",
       "      <th>holiday</th>\n",
       "      <th>weekday</th>\n",
       "      <th>workingday</th>\n",
       "      <th>weathersit</th>\n",
       "      <th>temp</th>\n",
       "      <th>atemp</th>\n",
       "      <th>hum</th>\n",
       "      <th>windspeed</th>\n",
       "      <th>cnt</th>\n",
       "    </tr>\n",
       "  </thead>\n",
       "  <tbody>\n",
       "    <tr>\n",
       "      <th>0</th>\n",
       "      <td>1</td>\n",
       "      <td>0</td>\n",
       "      <td>1</td>\n",
       "      <td>-1.670004</td>\n",
       "      <td>0</td>\n",
       "      <td>6</td>\n",
       "      <td>0</td>\n",
       "      <td>1</td>\n",
       "      <td>-1.334648</td>\n",
       "      <td>-1.093281</td>\n",
       "      <td>0.947372</td>\n",
       "      <td>-1.553889</td>\n",
       "      <td>-0.956339</td>\n",
       "    </tr>\n",
       "    <tr>\n",
       "      <th>1</th>\n",
       "      <td>1</td>\n",
       "      <td>0</td>\n",
       "      <td>1</td>\n",
       "      <td>-1.525374</td>\n",
       "      <td>0</td>\n",
       "      <td>6</td>\n",
       "      <td>0</td>\n",
       "      <td>1</td>\n",
       "      <td>-1.438516</td>\n",
       "      <td>-1.181732</td>\n",
       "      <td>0.895539</td>\n",
       "      <td>-1.553889</td>\n",
       "      <td>-0.824022</td>\n",
       "    </tr>\n",
       "    <tr>\n",
       "      <th>2</th>\n",
       "      <td>1</td>\n",
       "      <td>0</td>\n",
       "      <td>1</td>\n",
       "      <td>-1.380744</td>\n",
       "      <td>0</td>\n",
       "      <td>6</td>\n",
       "      <td>0</td>\n",
       "      <td>1</td>\n",
       "      <td>-1.438516</td>\n",
       "      <td>-1.181732</td>\n",
       "      <td>0.895539</td>\n",
       "      <td>-1.553889</td>\n",
       "      <td>-0.868128</td>\n",
       "    </tr>\n",
       "    <tr>\n",
       "      <th>3</th>\n",
       "      <td>1</td>\n",
       "      <td>0</td>\n",
       "      <td>1</td>\n",
       "      <td>-1.236115</td>\n",
       "      <td>0</td>\n",
       "      <td>6</td>\n",
       "      <td>0</td>\n",
       "      <td>1</td>\n",
       "      <td>-1.334648</td>\n",
       "      <td>-1.093281</td>\n",
       "      <td>0.636370</td>\n",
       "      <td>-1.553889</td>\n",
       "      <td>-0.972879</td>\n",
       "    </tr>\n",
       "    <tr>\n",
       "      <th>4</th>\n",
       "      <td>1</td>\n",
       "      <td>0</td>\n",
       "      <td>1</td>\n",
       "      <td>-1.091485</td>\n",
       "      <td>0</td>\n",
       "      <td>6</td>\n",
       "      <td>0</td>\n",
       "      <td>1</td>\n",
       "      <td>-1.334648</td>\n",
       "      <td>-1.093281</td>\n",
       "      <td>0.636370</td>\n",
       "      <td>-1.553889</td>\n",
       "      <td>-1.039037</td>\n",
       "    </tr>\n",
       "  </tbody>\n",
       "</table>\n",
       "</div>"
      ],
      "text/plain": [
       "  season yr mnth        hr holiday weekday workingday weathersit      temp  \\\n",
       "0      1  0    1 -1.670004       0       6          0          1 -1.334648   \n",
       "1      1  0    1 -1.525374       0       6          0          1 -1.438516   \n",
       "2      1  0    1 -1.380744       0       6          0          1 -1.438516   \n",
       "3      1  0    1 -1.236115       0       6          0          1 -1.334648   \n",
       "4      1  0    1 -1.091485       0       6          0          1 -1.334648   \n",
       "\n",
       "      atemp       hum  windspeed       cnt  \n",
       "0 -1.093281  0.947372  -1.553889 -0.956339  \n",
       "1 -1.181732  0.895539  -1.553889 -0.824022  \n",
       "2 -1.181732  0.895539  -1.553889 -0.868128  \n",
       "3 -1.093281  0.636370  -1.553889 -0.972879  \n",
       "4 -1.093281  0.636370  -1.553889 -1.039037  "
      ]
     },
     "execution_count": 132,
     "metadata": {},
     "output_type": "execute_result"
    }
   ],
   "source": [
    "bike_share.head(5)"
   ]
  },
  {
   "cell_type": "markdown",
   "id": "d63a8ae5",
   "metadata": {},
   "source": [
    "##### Implement a histogram of the count column. What can be said basedonthe resulting distribution?"
   ]
  },
  {
   "cell_type": "code",
   "execution_count": 133,
   "id": "b3e0342d",
   "metadata": {},
   "outputs": [
    {
     "data": {
      "text/plain": [
       "(array([6972., 3705., 2659., 1660.,  997.,  653.,  369.,  188.,  139.,\n",
       "          37.]),\n",
       " array([-1.03903746, -0.50094771,  0.03714204,  0.5752318 ,  1.11332155,\n",
       "         1.6514113 ,  2.18950105,  2.7275908 ,  3.26568055,  3.8037703 ,\n",
       "         4.34186006]),\n",
       " <BarContainer object of 10 artists>)"
      ]
     },
     "execution_count": 133,
     "metadata": {},
     "output_type": "execute_result"
    },
    {
     "data": {
      "image/png": "[encoded data removed]",
      "text/plain": [
       "<Figure size 864x576 with 1 Axes>"
      ]
     },
     "metadata": {},
     "output_type": "display_data"
    }
   ],
   "source": [
    "plt.hist(x = bike_share['cnt'])"
   ]
  },
  {
   "cell_type": "markdown",
   "id": "8253daf3",
   "metadata": {},
   "source": [
    "Based on the distribution of the cnt variable we can see that there are more cnts with lower numbers of bike rentals than higher counts of bike rentals. "
   ]
  },
  {
   "cell_type": "markdown",
   "id": "3c68037d",
   "metadata": {},
   "source": [
    "##### Implement a train/test split with a test size of 33%."
   ]
  },
  {
   "cell_type": "code",
   "execution_count": 134,
   "id": "2edcf118",
   "metadata": {},
   "outputs": [],
   "source": [
    "from sklearn.model_selection import train_test_split\n",
    "y = bike_share['cnt']\n",
    "X = bike_share.drop('cnt', axis = 1)\n",
    "X_train, X_test, y_train, y_test = train_test_split(X, y, test_size=0.33, random_state=42)"
   ]
  },
  {
   "cell_type": "markdown",
   "id": "e8c22ec2",
   "metadata": {},
   "source": [
    "##### Implement a baseline linear regression algorithm. Use cross-validationtooutput r2 and mse. Calculate RMSE base on mse. Document your scores."
   ]
  },
  {
   "cell_type": "code",
   "execution_count": 136,
   "id": "81d447e8",
   "metadata": {},
   "outputs": [],
   "source": [
    "from sklearn.linear_model import LinearRegression\n",
    "from sklearn.model_selection import cross_val_score\n",
    "import math"
   ]
  },
  {
   "cell_type": "code",
   "execution_count": 137,
   "id": "1c8e7fce",
   "metadata": {},
   "outputs": [
    {
     "name": "stdout",
     "output_type": "stream",
     "text": [
      "LinearRegression()\n",
      "R2:\n",
      " 0.38506139505029086\n",
      "MSE mean:\n",
      " 0.6234480824773813\n",
      "RMSE mean:\n",
      " 0.7894616753334466\n"
     ]
    }
   ],
   "source": [
    "#Linear Regression Model\n",
    "print(\"LinearRegression()\")\n",
    "lm = LinearRegression()\n",
    "lm.fit(X_train, y_train)\n",
    "r2 = cross_val_score(lm, X_train, y_train, scoring = 'r2')\n",
    "mse = cross_val_score(lm, X_train, y_train, scoring=\"neg_mean_squared_error\")\n",
    "mse = -mse\n",
    "rmse = np.sqrt(mse)\n",
    "print(\"R2:\\n\", r2.mean())\n",
    "print(\"MSE mean:\\n\", mse.mean())\n",
    "print(\"RMSE mean:\\n\", rmse.mean())"
   ]
  },
  {
   "cell_type": "markdown",
   "id": "abcfee9f",
   "metadata": {},
   "source": [
    "## Part 3 Model Training\n",
    "(Hint: trained all of these with a for loopand added my results to a PrettyTable.)"
   ]
  },
  {
   "cell_type": "markdown",
   "id": "daade6a9",
   "metadata": {},
   "source": [
    "##### Create one-hot-encoded values for your categorical columns usingget_dummies and add them to your source dataset."
   ]
  },
  {
   "cell_type": "code",
   "execution_count": 138,
   "id": "670bb11e",
   "metadata": {},
   "outputs": [],
   "source": [
    "for col in ['season', 'yr', 'mnth',  'holiday', 'weekday', 'workingday', 'weathersit']:\n",
    "    temp = pd.get_dummies(bike_share[col], prefix=col)\n",
    "    bike_share = bike_share.join(temp)"
   ]
  },
  {
   "cell_type": "markdown",
   "id": "fa3b27f7",
   "metadata": {},
   "source": [
    "##### Drop the original categorical columns from your source dataset."
   ]
  },
  {
   "cell_type": "code",
   "execution_count": 139,
   "id": "f4257bb0",
   "metadata": {},
   "outputs": [],
   "source": [
    " bike_share = bike_share.drop(['season', 'yr', 'mnth',  'holiday', 'weekday', 'workingday', 'weathersit'], axis = 1)"
   ]
  },
  {
   "cell_type": "markdown",
   "id": "df1fa143",
   "metadata": {},
   "source": [
    "##### Do a test/train split based on your new source dataset. Implement andfit anew linear model on your new training set."
   ]
  },
  {
   "cell_type": "code",
   "execution_count": 140,
   "id": "d8faf4b3",
   "metadata": {},
   "outputs": [],
   "source": [
    "y = bike_share['cnt']\n",
    "X = bike_share.drop('cnt', axis = 1)\n",
    "X_train, X_test, y_train, y_test = train_test_split(X, y, test_size=0.33, random_state=42)"
   ]
  },
  {
   "cell_type": "markdown",
   "id": "d6c2bb95",
   "metadata": {},
   "source": [
    "#### What are the new values for r2, mse, and rmse?"
   ]
  },
  {
   "cell_type": "code",
   "execution_count": 141,
   "id": "a8bba766",
   "metadata": {},
   "outputs": [
    {
     "name": "stdout",
     "output_type": "stream",
     "text": [
      "LinearRegression()\n",
      "R2:\n",
      " 0.40091874957001217\n",
      "MSE mean:\n",
      " 0.6073545157965474\n",
      "RMSE mean:\n",
      " 0.7792160108970977\n"
     ]
    }
   ],
   "source": [
    "print(\"LinearRegression()\")\n",
    "lm = LinearRegression()\n",
    "lm.fit(X_train, y_train)\n",
    "r2 = cross_val_score(lm, X_train, y_train, scoring = 'r2')\n",
    "mse = cross_val_score(lm, X_train, y_train, scoring=\"neg_mean_squared_error\")\n",
    "mse = -mse\n",
    "rmse = np.sqrt(mse)\n",
    "print(\"R2:\\n\", r2.mean())\n",
    "print(\"MSE mean:\\n\", mse.mean())\n",
    "print(\"RMSE mean:\\n\", rmse.mean())"
   ]
  },
  {
   "cell_type": "markdown",
   "id": "b6ac05cf",
   "metadata": {},
   "source": [
    "##### Looking at 7 different models to select the top three\n",
    "\n",
    "* Implement and score a decision tree regressor with random_state=0\n",
    "* Implement and score a RandomForestRegressor with random_state=0and n_esitmators=30\n",
    "* Implement and score an SGDRegressor with max_iter=1000 andtol=1e-3)\n",
    "* Implement and score a Lasso Regressor with alpha=0.1. \n",
    "* Implement and score an ElasticNet Regressor with random_state=0. \n",
    "* Implement and score a Ridge Regressor with alpha=0.5. \n",
    "* Implement and score a BaggingRegressor."
   ]
  },
  {
   "cell_type": "code",
   "execution_count": 157,
   "id": "5853ca79",
   "metadata": {},
   "outputs": [],
   "source": [
    "from sklearn.ensemble import RandomForestRegressor\n",
    "from sklearn.tree import DecisionTreeRegressor\n",
    "from sklearn.linear_model import SGDRegressor\n",
    "from sklearn.linear_model import Ridge\n",
    "from sklearn.linear_model import ElasticNet\n",
    "from sklearn.linear_model import Lasso\n",
    "from sklearn.ensemble import BaggingRegressor\n",
    "from sklearn.model_selection import cross_val_score\n",
    "from sklearn.metrics import classification_report, confusion_matrix, precision_recall_curve, auc, roc_curve\n",
    "from prettytable import PrettyTable"
   ]
  },
  {
   "cell_type": "code",
   "execution_count": 143,
   "id": "25ae2b3e",
   "metadata": {},
   "outputs": [],
   "source": [
    "models = [DecisionTreeRegressor(random_state=0), \n",
    "          RandomForestRegressor(random_state=0, n_estimators = 30), SGDRegressor(max_iter=1000, tol = 0.001),\n",
    "          Lasso(alpha = 0.1),\n",
    "          ElasticNet(random_state=0),\n",
    "          Ridge(alpha=0.5), BaggingRegressor()]"
   ]
  },
  {
   "cell_type": "code",
   "execution_count": 158,
   "id": "cf12f9dc",
   "metadata": {},
   "outputs": [],
   "source": [
    "# Creating Pretty Table\n",
    "tbl = PrettyTable()\n",
    "tbl.field_names = [\"Model name\", \"Cross_Val=_Score\"]"
   ]
  },
  {
   "cell_type": "code",
   "execution_count": 159,
   "id": "759de2ae",
   "metadata": {
    "scrolled": true
   },
   "outputs": [],
   "source": [
    "random.seed(123)\n",
    "\n",
    "for model in models:\n",
    "    #print()\n",
    "    #print(model)\n",
    "    model.fit(X_train, y_train)\n",
    "    scores = cross_val_score(model, X_train, y_train)\n",
    "    tbl.add_row([model, scores.mean()])\n",
    "    #print(\"Scores mean:\\n\", scores.mean())"
   ]
  },
  {
   "cell_type": "code",
   "execution_count": 160,
   "id": "851cf084",
   "metadata": {},
   "outputs": [
    {
     "name": "stdout",
     "output_type": "stream",
     "text": [
      "+--------------------------------------------------------+------------------------+\n",
      "|                       Model name                       |    Cross_Val=_Score    |\n",
      "+--------------------------------------------------------+------------------------+\n",
      "|         DecisionTreeRegressor(random_state=0)          |   0.8758406045773102   |\n",
      "| RandomForestRegressor(n_estimators=30, random_state=0) |   0.934090364673513    |\n",
      "|                     SGDRegressor()                     |   0.3982214955863269   |\n",
      "|                    Lasso(alpha=0.1)                    |  0.31116891873053726   |\n",
      "|               ElasticNet(random_state=0)               | -0.0006898547576850156 |\n",
      "|                    Ridge(alpha=0.5)                    |   0.4009214673806496   |\n",
      "|                   BaggingRegressor()                   |   0.9299956116789595   |\n",
      "+--------------------------------------------------------+------------------------+\n"
     ]
    }
   ],
   "source": [
    "print(tbl)"
   ]
  },
  {
   "cell_type": "markdown",
   "id": "1e28e1ec",
   "metadata": {},
   "source": [
    "My top 3 performing models are the DecisionTreeRegressor, RandomForestRegressor, and the BaggingRegressor. They had the highest cross_val_score. "
   ]
  },
  {
   "cell_type": "markdown",
   "id": "355d215f",
   "metadata": {},
   "source": [
    "## Part 4 Model Tuning"
   ]
  },
  {
   "cell_type": "markdown",
   "id": "fdeeff09",
   "metadata": {},
   "source": [
    "##### Take the top three performing models and implement cross-validation on them. \n",
    "* Hint: They should be Decision Tree Regressor, RandomForestRegressor, and BaggingRegressor"
   ]
  },
  {
   "cell_type": "code",
   "execution_count": 164,
   "id": "180f701b",
   "metadata": {},
   "outputs": [],
   "source": [
    "from sklearn.model_selection import cross_validate"
   ]
  },
  {
   "cell_type": "code",
   "execution_count": 167,
   "id": "267d61d9",
   "metadata": {},
   "outputs": [
    {
     "name": "stdout",
     "output_type": "stream",
     "text": [
      "\n",
      "DecisionTreeRegressor(random_state=0)\n",
      "R2:\n",
      " 0.8758406045773102\n",
      "MSE mean:\n",
      " 0.12593789889166035\n",
      "RMSE mean:\n",
      " 0.35448769037904604\n",
      "\n",
      "RandomForestRegressor(n_estimators=30, random_state=0)\n",
      "R2:\n",
      " 0.934090364673513\n",
      "MSE mean:\n",
      " 0.06675514945262244\n",
      "RMSE mean:\n",
      " 0.2581046379135741\n",
      "\n",
      "BaggingRegressor()\n",
      "R2:\n",
      " 0.9292285994740073\n",
      "MSE mean:\n",
      " 0.07165179479185474\n",
      "RMSE mean:\n",
      " 0.2674284312475551\n"
     ]
    }
   ],
   "source": [
    "for model in [DecisionTreeRegressor(random_state=0), RandomForestRegressor(random_state=0, n_estimators = 30), BaggingRegressor()]:\n",
    "    print()\n",
    "    print(model)\n",
    "    model.fit(X_train, y_train)\n",
    "    scores = cross_validate(model, X_train, y_train, scoring = ('r2', 'neg_mean_squared_error'))\n",
    "    rmse = np.sqrt(-scores['test_neg_mean_squared_error'])\n",
    "    print(\"R2:\\n\", scores['test_r2'].mean())\n",
    "    print(\"MSE mean:\\n\", (-scores['test_neg_mean_squared_error'].mean()))\n",
    "    print(\"RMSE mean:\\n\", rmse.mean())"
   ]
  },
  {
   "cell_type": "markdown",
   "id": "e19b60a8",
   "metadata": {},
   "source": [
    "My top performing model found is the RandomForestRegressor. It had an R2 of 0.93409 and an RMSE of 0.2581."
   ]
  },
  {
   "cell_type": "markdown",
   "id": "3709b6e1",
   "metadata": {},
   "source": [
    "##### Take your top performing model (mine was the RandomForestRegressor) and do a randomize search cv with 20 iterations and three folds.\n",
    "* I found it is best to set your n_jobs = (# of cpu’s you have –1)\n",
    "* params: \n",
    "    * Bootstrap: true, false \n",
    "    * Max_depth: 10-110, number of bins 11\n",
    "    * Max_features: auto, sqrt\n",
    "    * Min_samples_split: 2,5,10\n",
    "    * Min_samples_leaf: 1,2,4\n",
    "    * N_estimators: 200 – 2000, number of bins 10"
   ]
  },
  {
   "cell_type": "code",
   "execution_count": 168,
   "id": "7d929c76",
   "metadata": {},
   "outputs": [],
   "source": [
    "from sklearn.model_selection import RandomizedSearchCV"
   ]
  },
  {
   "cell_type": "code",
   "execution_count": 177,
   "id": "f0f10249",
   "metadata": {},
   "outputs": [
    {
     "name": "stdout",
     "output_type": "stream",
     "text": [
      "RandomForestRegressor(max_depth=98, min_samples_leaf=4, min_samples_split=5,\n",
      "                      n_estimators=580)\n"
     ]
    }
   ],
   "source": [
    "new_params = {'bootstrap':(True, False), 'max_depth': np.arange(10,110, 11), 'max_features': ['auto', 'sqrt'], \n",
    "              'min_samples_split': [2,5,10], 'min_samples_leaf': [1,2,4], 'n_estimators': np.arange(200,2000, 10)}\n",
    "rfr_grid = RandomizedSearchCV(estimator = RandomForestRegressor(), param_distributions = new_params, cv=3, n_jobs = 3,\n",
    "                              n_iter = 20)\n",
    "rfr_grid.fit(X_train, y_train)\n",
    "\n",
    "print(rfr_grid.best_estimator_)"
   ]
  },
  {
   "cell_type": "markdown",
   "id": "5c2b7061",
   "metadata": {},
   "source": [
    "##### Take your best_estimator_ and see how it compares by doing cross_vals for r2 , mse, and calculating rmse"
   ]
  },
  {
   "cell_type": "code",
   "execution_count": 178,
   "id": "2df56fe9",
   "metadata": {},
   "outputs": [
    {
     "name": "stdout",
     "output_type": "stream",
     "text": [
      "R2:\n",
      " 0.9303098221950175\n",
      "MSE mean:\n",
      " 0.07060899458711414\n",
      "RMSE mean:\n",
      " 0.2654240997885991\n"
     ]
    }
   ],
   "source": [
    "rfr = rfr_grid.best_estimator_\n",
    "rfr.fit(X_train, y_train)\n",
    "r2 = cross_val_score(rfr, X_train, y_train, scoring = 'r2')\n",
    "mse = cross_val_score(rfr, X_train, y_train, scoring=\"neg_mean_squared_error\")\n",
    "mse = -mse\n",
    "rmse = np.sqrt(mse)\n",
    "print(\"R2:\\n\", r2.mean())\n",
    "print(\"MSE mean:\\n\", mse.mean())\n",
    "print(\"RMSE mean:\\n\", rmse.mean())"
   ]
  },
  {
   "cell_type": "markdown",
   "id": "42a7bb07",
   "metadata": {},
   "source": [
    "Utilizing the new best estimator parameter, our R2 went down slightly to 0.9303 but was still relatively similar to our first RandomForestRegressor. Our RSME did increase by 0.007 to 0.2654, indicating our first model was a better selection."
   ]
  },
  {
   "cell_type": "markdown",
   "id": "571be9cb",
   "metadata": {},
   "source": [
    "##### Finally, run predictions on your test set with this model, and see how your r2 score and RMSE look."
   ]
  },
  {
   "cell_type": "code",
   "execution_count": 181,
   "id": "cd292d61",
   "metadata": {},
   "outputs": [],
   "source": [
    "from sklearn.metrics import r2_score\n",
    "from sklearn.metrics import mean_squared_error"
   ]
  },
  {
   "cell_type": "code",
   "execution_count": 182,
   "id": "66ea78ce",
   "metadata": {},
   "outputs": [
    {
     "name": "stdout",
     "output_type": "stream",
     "text": [
      "R2 score: 0.9394885069129332\n",
      "RSME score: 0.24223062572178677\n"
     ]
    }
   ],
   "source": [
    "ref_preds = rfr.predict(X_test)\n",
    "\n",
    "# Printing R2 score\n",
    "print(f\"R2 score: {r2_score(y_test, ref_preds)}\")\n",
    "\n",
    "#Printing RMSE score, setting to False returns RSME\n",
    "print(f\"RSME score: {mean_squared_error(y_test, ref_preds, squared = False)}\")"
   ]
  },
  {
   "cell_type": "markdown",
   "id": "35be6c11",
   "metadata": {},
   "source": [
    "Looking at our test set, we get a slightly higher R2 and lower RSME indicating it is a good model. "
   ]
  }
 ],
 "metadata": {
  "kernelspec": {
   "display_name": "Python 3 (ipykernel)",
   "language": "python",
   "name": "python3"
  },
  "language_info": {
   "codemirror_mode": {
    "name": "ipython",
    "version": 3
   },
   "file_extension": ".py",
   "mimetype": "text/x-python",
   "name": "python",
   "nbconvert_exporter": "python",
   "pygments_lexer": "ipython3",
   "version": "3.9.12"
  }
 },
 "nbformat": 4,
 "nbformat_minor": 5
}
